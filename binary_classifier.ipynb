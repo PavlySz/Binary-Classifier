{
 "cells": [
  {
   "cell_type": "markdown",
   "metadata": {},
   "source": [
    "# Binary Classification Task\n",
    "## Name: Pavly Salah Zaki\n",
    "## Email: Pavly.Salah.Zaki@gmail.com"
   ]
  },
  {
   "cell_type": "code",
   "execution_count": 1,
   "metadata": {
    "tags": []
   },
   "outputs": [
    {
     "output_type": "stream",
     "name": "stderr",
     "text": "\nBad key \"text.kerning_factor\" on line 4 in\n/home/bot/anaconda3/envs/tf2/lib/python3.7/site-packages/matplotlib/mpl-data/stylelib/_classic_test_patch.mplstyle.\nYou probably need to get an updated matplotlibrc file from\nhttps://github.com/matplotlib/matplotlib/blob/v3.1.3/matplotlibrc.template\nor from the matplotlib source distribution\n"
    }
   ],
   "source": [
    "import numpy as np\n",
    "import pandas as pd\n",
    "import matplotlib.pyplot as plt\n",
    "import seaborn as sns"
   ]
  },
  {
   "cell_type": "code",
   "execution_count": 2,
   "metadata": {
    "tags": []
   },
   "outputs": [
    {
     "output_type": "stream",
     "name": "stdout",
     "text": ".\n├── binary_classifier_data\n│   ├── training.csv\n│   └── validation.csv\n├── binary_classifier.ipynb\n├── binary_classifier.py\n├── Dockerfile\n├── flask_website.py\n├── __pycache__\n│   └── binary_classifier.cpython-37.pyc\n├── README.md\n├── requirements.txt\n├── static\n│   └── style.css\n└── templates\n    └── index.html\n\n4 directories, 11 files\n"
    }
   ],
   "source": [
    "!tree"
   ]
  },
  {
   "cell_type": "markdown",
   "metadata": {},
   "source": [
    "## Load data"
   ]
  },
  {
   "cell_type": "code",
   "execution_count": 3,
   "metadata": {},
   "outputs": [],
   "source": [
    "# Main folder path\n",
    "FOLDER_PATH = 'binary_classifier_data'"
   ]
  },
  {
   "cell_type": "code",
   "execution_count": 4,
   "metadata": {},
   "outputs": [],
   "source": [
    "# Read the train data\n",
    "df_train = pd.read_csv(f'{FOLDER_PATH}/training.csv', sep=';')"
   ]
  },
  {
   "cell_type": "code",
   "execution_count": 5,
   "metadata": {},
   "outputs": [
    {
     "output_type": "execute_result",
     "data": {
      "text/plain": "     variable1 variable2  variable3 variable4 variable5 variable6 variable7  \\\n0            a     17,92    5,4e-05         u         g         c         v   \n1            b     16,92   3,35e-05         y         p         k         v   \n2            b     31,25  0,0001125         u         g        ff        ff   \n3            a     48,17  0,0001335         u         g         i         o   \n4            b     32,33    0,00035         u         g         k         v   \n...        ...       ...        ...       ...       ...       ...       ...   \n3695         a     18,75    0,00075         u         g         q         v   \n3696         a      23,5      9e-04         u         g         q         v   \n3697         b     34,17   0,000917         u         g         c         v   \n3698         b     27,83   0,000154         u         g         W         v   \n3699         a     36,75  0,0005125         u         g         e         v   \n\n     variable8 variable9 variable10  variable11 variable12 variable13  \\\n0         1,75         f          t           1          t          g   \n1         0,29         f          f           0          f          s   \n2            0         f          t           1          f          g   \n3        0,335         f          f           0          f          g   \n4          0,5         f          f           0          t          g   \n...        ...       ...        ...         ...        ...        ...   \n3695      2,71         t          t           5          f          g   \n3696       8,5         t          t           5          t          g   \n3697       4,5         t          t          12          t          g   \n3698      3,75         t          t           5          t          g   \n3699         5         t          f           0          t          g   \n\n      variable14  variable15  variable17 variable18  variable19 classLabel  \n0           80.0           5    800000.0          t           0        no.  \n1          200.0           0   2000000.0        NaN           0        no.  \n2           96.0          19    960000.0          t           0        no.  \n3            0.0         120         0.0        NaN           0        no.  \n4          232.0           0   2320000.0          f           0        no.  \n...          ...         ...         ...        ...         ...        ...  \n3695         NaN       26726         NaN          t           1       yes.  \n3696       120.0           0   1200000.0          t           1       yes.  \n3697         0.0         221         0.0        NaN           1       yes.  \n3698       100.0           3   1000000.0        NaN           1       yes.  \n3699         0.0        4000         0.0          f           1       yes.  \n\n[3700 rows x 19 columns]",
      "text/html": "<div>\n<style scoped>\n    .dataframe tbody tr th:only-of-type {\n        vertical-align: middle;\n    }\n\n    .dataframe tbody tr th {\n        vertical-align: top;\n    }\n\n    .dataframe thead th {\n        text-align: right;\n    }\n</style>\n<table border=\"1\" class=\"dataframe\">\n  <thead>\n    <tr style=\"text-align: right;\">\n      <th></th>\n      <th>variable1</th>\n      <th>variable2</th>\n      <th>variable3</th>\n      <th>variable4</th>\n      <th>variable5</th>\n      <th>variable6</th>\n      <th>variable7</th>\n      <th>variable8</th>\n      <th>variable9</th>\n      <th>variable10</th>\n      <th>variable11</th>\n      <th>variable12</th>\n      <th>variable13</th>\n      <th>variable14</th>\n      <th>variable15</th>\n      <th>variable17</th>\n      <th>variable18</th>\n      <th>variable19</th>\n      <th>classLabel</th>\n    </tr>\n  </thead>\n  <tbody>\n    <tr>\n      <th>0</th>\n      <td>a</td>\n      <td>17,92</td>\n      <td>5,4e-05</td>\n      <td>u</td>\n      <td>g</td>\n      <td>c</td>\n      <td>v</td>\n      <td>1,75</td>\n      <td>f</td>\n      <td>t</td>\n      <td>1</td>\n      <td>t</td>\n      <td>g</td>\n      <td>80.0</td>\n      <td>5</td>\n      <td>800000.0</td>\n      <td>t</td>\n      <td>0</td>\n      <td>no.</td>\n    </tr>\n    <tr>\n      <th>1</th>\n      <td>b</td>\n      <td>16,92</td>\n      <td>3,35e-05</td>\n      <td>y</td>\n      <td>p</td>\n      <td>k</td>\n      <td>v</td>\n      <td>0,29</td>\n      <td>f</td>\n      <td>f</td>\n      <td>0</td>\n      <td>f</td>\n      <td>s</td>\n      <td>200.0</td>\n      <td>0</td>\n      <td>2000000.0</td>\n      <td>NaN</td>\n      <td>0</td>\n      <td>no.</td>\n    </tr>\n    <tr>\n      <th>2</th>\n      <td>b</td>\n      <td>31,25</td>\n      <td>0,0001125</td>\n      <td>u</td>\n      <td>g</td>\n      <td>ff</td>\n      <td>ff</td>\n      <td>0</td>\n      <td>f</td>\n      <td>t</td>\n      <td>1</td>\n      <td>f</td>\n      <td>g</td>\n      <td>96.0</td>\n      <td>19</td>\n      <td>960000.0</td>\n      <td>t</td>\n      <td>0</td>\n      <td>no.</td>\n    </tr>\n    <tr>\n      <th>3</th>\n      <td>a</td>\n      <td>48,17</td>\n      <td>0,0001335</td>\n      <td>u</td>\n      <td>g</td>\n      <td>i</td>\n      <td>o</td>\n      <td>0,335</td>\n      <td>f</td>\n      <td>f</td>\n      <td>0</td>\n      <td>f</td>\n      <td>g</td>\n      <td>0.0</td>\n      <td>120</td>\n      <td>0.0</td>\n      <td>NaN</td>\n      <td>0</td>\n      <td>no.</td>\n    </tr>\n    <tr>\n      <th>4</th>\n      <td>b</td>\n      <td>32,33</td>\n      <td>0,00035</td>\n      <td>u</td>\n      <td>g</td>\n      <td>k</td>\n      <td>v</td>\n      <td>0,5</td>\n      <td>f</td>\n      <td>f</td>\n      <td>0</td>\n      <td>t</td>\n      <td>g</td>\n      <td>232.0</td>\n      <td>0</td>\n      <td>2320000.0</td>\n      <td>f</td>\n      <td>0</td>\n      <td>no.</td>\n    </tr>\n    <tr>\n      <th>...</th>\n      <td>...</td>\n      <td>...</td>\n      <td>...</td>\n      <td>...</td>\n      <td>...</td>\n      <td>...</td>\n      <td>...</td>\n      <td>...</td>\n      <td>...</td>\n      <td>...</td>\n      <td>...</td>\n      <td>...</td>\n      <td>...</td>\n      <td>...</td>\n      <td>...</td>\n      <td>...</td>\n      <td>...</td>\n      <td>...</td>\n      <td>...</td>\n    </tr>\n    <tr>\n      <th>3695</th>\n      <td>a</td>\n      <td>18,75</td>\n      <td>0,00075</td>\n      <td>u</td>\n      <td>g</td>\n      <td>q</td>\n      <td>v</td>\n      <td>2,71</td>\n      <td>t</td>\n      <td>t</td>\n      <td>5</td>\n      <td>f</td>\n      <td>g</td>\n      <td>NaN</td>\n      <td>26726</td>\n      <td>NaN</td>\n      <td>t</td>\n      <td>1</td>\n      <td>yes.</td>\n    </tr>\n    <tr>\n      <th>3696</th>\n      <td>a</td>\n      <td>23,5</td>\n      <td>9e-04</td>\n      <td>u</td>\n      <td>g</td>\n      <td>q</td>\n      <td>v</td>\n      <td>8,5</td>\n      <td>t</td>\n      <td>t</td>\n      <td>5</td>\n      <td>t</td>\n      <td>g</td>\n      <td>120.0</td>\n      <td>0</td>\n      <td>1200000.0</td>\n      <td>t</td>\n      <td>1</td>\n      <td>yes.</td>\n    </tr>\n    <tr>\n      <th>3697</th>\n      <td>b</td>\n      <td>34,17</td>\n      <td>0,000917</td>\n      <td>u</td>\n      <td>g</td>\n      <td>c</td>\n      <td>v</td>\n      <td>4,5</td>\n      <td>t</td>\n      <td>t</td>\n      <td>12</td>\n      <td>t</td>\n      <td>g</td>\n      <td>0.0</td>\n      <td>221</td>\n      <td>0.0</td>\n      <td>NaN</td>\n      <td>1</td>\n      <td>yes.</td>\n    </tr>\n    <tr>\n      <th>3698</th>\n      <td>b</td>\n      <td>27,83</td>\n      <td>0,000154</td>\n      <td>u</td>\n      <td>g</td>\n      <td>W</td>\n      <td>v</td>\n      <td>3,75</td>\n      <td>t</td>\n      <td>t</td>\n      <td>5</td>\n      <td>t</td>\n      <td>g</td>\n      <td>100.0</td>\n      <td>3</td>\n      <td>1000000.0</td>\n      <td>NaN</td>\n      <td>1</td>\n      <td>yes.</td>\n    </tr>\n    <tr>\n      <th>3699</th>\n      <td>a</td>\n      <td>36,75</td>\n      <td>0,0005125</td>\n      <td>u</td>\n      <td>g</td>\n      <td>e</td>\n      <td>v</td>\n      <td>5</td>\n      <td>t</td>\n      <td>f</td>\n      <td>0</td>\n      <td>t</td>\n      <td>g</td>\n      <td>0.0</td>\n      <td>4000</td>\n      <td>0.0</td>\n      <td>f</td>\n      <td>1</td>\n      <td>yes.</td>\n    </tr>\n  </tbody>\n</table>\n<p>3700 rows × 19 columns</p>\n</div>"
     },
     "metadata": {},
     "execution_count": 5
    }
   ],
   "source": [
    "df_train"
   ]
  },
  {
   "cell_type": "markdown",
   "metadata": {},
   "source": [
    "## Exploratory Data Analysis"
   ]
  },
  {
   "cell_type": "code",
   "execution_count": 6,
   "metadata": {},
   "outputs": [
    {
     "output_type": "execute_result",
     "data": {
      "text/plain": "        variable11   variable14     variable15    variable17   variable19\ncount  3700.000000  3600.000000    3700.000000  3.600000e+03  3700.000000\nmean      4.160000   162.695000    2246.705946  1.626950e+06     0.925405\nstd       6.750553   156.045682    8708.571126  1.560457e+06     0.262772\nmin       0.000000     0.000000       0.000000  0.000000e+00     0.000000\n25%       0.000000     0.000000       0.000000  0.000000e+00     1.000000\n50%       2.000000   120.000000     113.000000  1.200000e+06     1.000000\n75%       6.000000   280.000000    1059.750000  2.800000e+06     1.000000\nmax      67.000000  1160.000000  100000.000000  1.160000e+07     1.000000",
      "text/html": "<div>\n<style scoped>\n    .dataframe tbody tr th:only-of-type {\n        vertical-align: middle;\n    }\n\n    .dataframe tbody tr th {\n        vertical-align: top;\n    }\n\n    .dataframe thead th {\n        text-align: right;\n    }\n</style>\n<table border=\"1\" class=\"dataframe\">\n  <thead>\n    <tr style=\"text-align: right;\">\n      <th></th>\n      <th>variable11</th>\n      <th>variable14</th>\n      <th>variable15</th>\n      <th>variable17</th>\n      <th>variable19</th>\n    </tr>\n  </thead>\n  <tbody>\n    <tr>\n      <th>count</th>\n      <td>3700.000000</td>\n      <td>3600.000000</td>\n      <td>3700.000000</td>\n      <td>3.600000e+03</td>\n      <td>3700.000000</td>\n    </tr>\n    <tr>\n      <th>mean</th>\n      <td>4.160000</td>\n      <td>162.695000</td>\n      <td>2246.705946</td>\n      <td>1.626950e+06</td>\n      <td>0.925405</td>\n    </tr>\n    <tr>\n      <th>std</th>\n      <td>6.750553</td>\n      <td>156.045682</td>\n      <td>8708.571126</td>\n      <td>1.560457e+06</td>\n      <td>0.262772</td>\n    </tr>\n    <tr>\n      <th>min</th>\n      <td>0.000000</td>\n      <td>0.000000</td>\n      <td>0.000000</td>\n      <td>0.000000e+00</td>\n      <td>0.000000</td>\n    </tr>\n    <tr>\n      <th>25%</th>\n      <td>0.000000</td>\n      <td>0.000000</td>\n      <td>0.000000</td>\n      <td>0.000000e+00</td>\n      <td>1.000000</td>\n    </tr>\n    <tr>\n      <th>50%</th>\n      <td>2.000000</td>\n      <td>120.000000</td>\n      <td>113.000000</td>\n      <td>1.200000e+06</td>\n      <td>1.000000</td>\n    </tr>\n    <tr>\n      <th>75%</th>\n      <td>6.000000</td>\n      <td>280.000000</td>\n      <td>1059.750000</td>\n      <td>2.800000e+06</td>\n      <td>1.000000</td>\n    </tr>\n    <tr>\n      <th>max</th>\n      <td>67.000000</td>\n      <td>1160.000000</td>\n      <td>100000.000000</td>\n      <td>1.160000e+07</td>\n      <td>1.000000</td>\n    </tr>\n  </tbody>\n</table>\n</div>"
     },
     "metadata": {},
     "execution_count": 6
    }
   ],
   "source": [
    "df_train.describe()"
   ]
  },
  {
   "cell_type": "code",
   "execution_count": 7,
   "metadata": {
    "tags": []
   },
   "outputs": [
    {
     "output_type": "stream",
     "name": "stdout",
     "text": "<class 'pandas.core.frame.DataFrame'>\nRangeIndex: 3700 entries, 0 to 3699\nData columns (total 19 columns):\n #   Column      Non-Null Count  Dtype  \n---  ------      --------------  -----  \n 0   variable1   3661 non-null   object \n 1   variable2   3661 non-null   object \n 2   variable3   3700 non-null   object \n 3   variable4   3636 non-null   object \n 4   variable5   3636 non-null   object \n 5   variable6   3634 non-null   object \n 6   variable7   3634 non-null   object \n 7   variable8   3700 non-null   object \n 8   variable9   3700 non-null   object \n 9   variable10  3700 non-null   object \n 10  variable11  3700 non-null   int64  \n 11  variable12  3700 non-null   object \n 12  variable13  3700 non-null   object \n 13  variable14  3600 non-null   float64\n 14  variable15  3700 non-null   int64  \n 15  variable17  3600 non-null   float64\n 16  variable18  1555 non-null   object \n 17  variable19  3700 non-null   int64  \n 18  classLabel  3700 non-null   object \ndtypes: float64(2), int64(3), object(14)\nmemory usage: 549.3+ KB\n"
    }
   ],
   "source": [
    "df_train.info()"
   ]
  },
  {
   "cell_type": "code",
   "execution_count": 8,
   "metadata": {},
   "outputs": [],
   "source": [
    "# drop any duplicates in the data\n",
    "df_train.drop_duplicates(inplace=True)\n",
    "df_train.reset_index(drop=True, inplace=True)"
   ]
  },
  {
   "cell_type": "code",
   "execution_count": 9,
   "metadata": {},
   "outputs": [
    {
     "output_type": "execute_result",
     "data": {
      "text/plain": "    variable1 variable2  variable3 variable4 variable5 variable6 variable7  \\\n0           a     17,92    5,4e-05         u         g         c         v   \n1           b     16,92   3,35e-05         y         p         k         v   \n2           b     31,25  0,0001125         u         g        ff        ff   \n3           a     48,17  0,0001335         u         g         i         o   \n4           b     32,33    0,00035         u         g         k         v   \n..        ...       ...        ...       ...       ...       ...       ...   \n485         b     80,25    0,00055         u         g       NaN       NaN   \n486         b     34,83    0,00025         y         p         W         v   \n487         a     55,75   0,000708         u         g         k         h   \n488         b     22,17  0,0012125         u         g         c         v   \n489         b     62,75      7e-04         u         g         e         z   \n\n    variable8 variable9 variable10  variable11 variable12 variable13  \\\n0        1,75         f          t           1          t          g   \n1        0,29         f          f           0          f          s   \n2           0         f          t           1          f          g   \n3       0,335         f          f           0          f          g   \n4         0,5         f          f           0          t          g   \n..        ...       ...        ...         ...        ...        ...   \n485      0,54         t          f           0          f          g   \n486         3         f          f           0          f          s   \n487      6,75         t          t           3          t          g   \n488     3,335         f          t           2          t          g   \n489         0         f          f           0          f          g   \n\n     variable14  variable15  variable17 variable18  variable19 classLabel  \n0          80.0           5    800000.0          t           0        no.  \n1         200.0           0   2000000.0        NaN           0        no.  \n2          96.0          19    960000.0          t           0        no.  \n3           0.0         120         0.0        NaN           0        no.  \n4         232.0           0   2320000.0          f           0        no.  \n..          ...         ...         ...        ...         ...        ...  \n485         0.0         340         0.0        NaN           0        no.  \n486       200.0           0   2000000.0          f           0        no.  \n487       100.0          50   1000000.0        NaN           0        no.  \n488       180.0         173   1800000.0        NaN           0        no.  \n489         0.0          12         0.0        NaN           0        no.  \n\n[490 rows x 19 columns]",
      "text/html": "<div>\n<style scoped>\n    .dataframe tbody tr th:only-of-type {\n        vertical-align: middle;\n    }\n\n    .dataframe tbody tr th {\n        vertical-align: top;\n    }\n\n    .dataframe thead th {\n        text-align: right;\n    }\n</style>\n<table border=\"1\" class=\"dataframe\">\n  <thead>\n    <tr style=\"text-align: right;\">\n      <th></th>\n      <th>variable1</th>\n      <th>variable2</th>\n      <th>variable3</th>\n      <th>variable4</th>\n      <th>variable5</th>\n      <th>variable6</th>\n      <th>variable7</th>\n      <th>variable8</th>\n      <th>variable9</th>\n      <th>variable10</th>\n      <th>variable11</th>\n      <th>variable12</th>\n      <th>variable13</th>\n      <th>variable14</th>\n      <th>variable15</th>\n      <th>variable17</th>\n      <th>variable18</th>\n      <th>variable19</th>\n      <th>classLabel</th>\n    </tr>\n  </thead>\n  <tbody>\n    <tr>\n      <th>0</th>\n      <td>a</td>\n      <td>17,92</td>\n      <td>5,4e-05</td>\n      <td>u</td>\n      <td>g</td>\n      <td>c</td>\n      <td>v</td>\n      <td>1,75</td>\n      <td>f</td>\n      <td>t</td>\n      <td>1</td>\n      <td>t</td>\n      <td>g</td>\n      <td>80.0</td>\n      <td>5</td>\n      <td>800000.0</td>\n      <td>t</td>\n      <td>0</td>\n      <td>no.</td>\n    </tr>\n    <tr>\n      <th>1</th>\n      <td>b</td>\n      <td>16,92</td>\n      <td>3,35e-05</td>\n      <td>y</td>\n      <td>p</td>\n      <td>k</td>\n      <td>v</td>\n      <td>0,29</td>\n      <td>f</td>\n      <td>f</td>\n      <td>0</td>\n      <td>f</td>\n      <td>s</td>\n      <td>200.0</td>\n      <td>0</td>\n      <td>2000000.0</td>\n      <td>NaN</td>\n      <td>0</td>\n      <td>no.</td>\n    </tr>\n    <tr>\n      <th>2</th>\n      <td>b</td>\n      <td>31,25</td>\n      <td>0,0001125</td>\n      <td>u</td>\n      <td>g</td>\n      <td>ff</td>\n      <td>ff</td>\n      <td>0</td>\n      <td>f</td>\n      <td>t</td>\n      <td>1</td>\n      <td>f</td>\n      <td>g</td>\n      <td>96.0</td>\n      <td>19</td>\n      <td>960000.0</td>\n      <td>t</td>\n      <td>0</td>\n      <td>no.</td>\n    </tr>\n    <tr>\n      <th>3</th>\n      <td>a</td>\n      <td>48,17</td>\n      <td>0,0001335</td>\n      <td>u</td>\n      <td>g</td>\n      <td>i</td>\n      <td>o</td>\n      <td>0,335</td>\n      <td>f</td>\n      <td>f</td>\n      <td>0</td>\n      <td>f</td>\n      <td>g</td>\n      <td>0.0</td>\n      <td>120</td>\n      <td>0.0</td>\n      <td>NaN</td>\n      <td>0</td>\n      <td>no.</td>\n    </tr>\n    <tr>\n      <th>4</th>\n      <td>b</td>\n      <td>32,33</td>\n      <td>0,00035</td>\n      <td>u</td>\n      <td>g</td>\n      <td>k</td>\n      <td>v</td>\n      <td>0,5</td>\n      <td>f</td>\n      <td>f</td>\n      <td>0</td>\n      <td>t</td>\n      <td>g</td>\n      <td>232.0</td>\n      <td>0</td>\n      <td>2320000.0</td>\n      <td>f</td>\n      <td>0</td>\n      <td>no.</td>\n    </tr>\n    <tr>\n      <th>...</th>\n      <td>...</td>\n      <td>...</td>\n      <td>...</td>\n      <td>...</td>\n      <td>...</td>\n      <td>...</td>\n      <td>...</td>\n      <td>...</td>\n      <td>...</td>\n      <td>...</td>\n      <td>...</td>\n      <td>...</td>\n      <td>...</td>\n      <td>...</td>\n      <td>...</td>\n      <td>...</td>\n      <td>...</td>\n      <td>...</td>\n      <td>...</td>\n    </tr>\n    <tr>\n      <th>485</th>\n      <td>b</td>\n      <td>80,25</td>\n      <td>0,00055</td>\n      <td>u</td>\n      <td>g</td>\n      <td>NaN</td>\n      <td>NaN</td>\n      <td>0,54</td>\n      <td>t</td>\n      <td>f</td>\n      <td>0</td>\n      <td>f</td>\n      <td>g</td>\n      <td>0.0</td>\n      <td>340</td>\n      <td>0.0</td>\n      <td>NaN</td>\n      <td>0</td>\n      <td>no.</td>\n    </tr>\n    <tr>\n      <th>486</th>\n      <td>b</td>\n      <td>34,83</td>\n      <td>0,00025</td>\n      <td>y</td>\n      <td>p</td>\n      <td>W</td>\n      <td>v</td>\n      <td>3</td>\n      <td>f</td>\n      <td>f</td>\n      <td>0</td>\n      <td>f</td>\n      <td>s</td>\n      <td>200.0</td>\n      <td>0</td>\n      <td>2000000.0</td>\n      <td>f</td>\n      <td>0</td>\n      <td>no.</td>\n    </tr>\n    <tr>\n      <th>487</th>\n      <td>a</td>\n      <td>55,75</td>\n      <td>0,000708</td>\n      <td>u</td>\n      <td>g</td>\n      <td>k</td>\n      <td>h</td>\n      <td>6,75</td>\n      <td>t</td>\n      <td>t</td>\n      <td>3</td>\n      <td>t</td>\n      <td>g</td>\n      <td>100.0</td>\n      <td>50</td>\n      <td>1000000.0</td>\n      <td>NaN</td>\n      <td>0</td>\n      <td>no.</td>\n    </tr>\n    <tr>\n      <th>488</th>\n      <td>b</td>\n      <td>22,17</td>\n      <td>0,0012125</td>\n      <td>u</td>\n      <td>g</td>\n      <td>c</td>\n      <td>v</td>\n      <td>3,335</td>\n      <td>f</td>\n      <td>t</td>\n      <td>2</td>\n      <td>t</td>\n      <td>g</td>\n      <td>180.0</td>\n      <td>173</td>\n      <td>1800000.0</td>\n      <td>NaN</td>\n      <td>0</td>\n      <td>no.</td>\n    </tr>\n    <tr>\n      <th>489</th>\n      <td>b</td>\n      <td>62,75</td>\n      <td>7e-04</td>\n      <td>u</td>\n      <td>g</td>\n      <td>e</td>\n      <td>z</td>\n      <td>0</td>\n      <td>f</td>\n      <td>f</td>\n      <td>0</td>\n      <td>f</td>\n      <td>g</td>\n      <td>0.0</td>\n      <td>12</td>\n      <td>0.0</td>\n      <td>NaN</td>\n      <td>0</td>\n      <td>no.</td>\n    </tr>\n  </tbody>\n</table>\n<p>490 rows × 19 columns</p>\n</div>"
     },
     "metadata": {},
     "execution_count": 9
    }
   ],
   "source": [
    "df_train"
   ]
  },
  {
   "cell_type": "markdown",
   "metadata": {},
   "source": [
    "**NOTE:** There were many duplicate values in the dataset"
   ]
  },
  {
   "cell_type": "code",
   "execution_count": 10,
   "metadata": {},
   "outputs": [
    {
     "output_type": "execute_result",
     "data": {
      "text/plain": "    variable1 variable2  variable3 variable4 variable5 variable6 variable7  \\\n0           a     17,92    5,4e-05         u         g         c         v   \n2           b     31,25  0,0001125         u         g        ff        ff   \n4           b     32,33    0,00035         u         g         k         v   \n5           a     34,83   0,000125         y         p         i         h   \n10          a     24,75  0,0013665         u         g         q         h   \n..        ...       ...        ...       ...       ...       ...       ...   \n476         a        25   0,001233         u         g        cc         h   \n477         b      25,5   3,75e-05         u         g         m         v   \n479         a      23,5      9e-04         u         g         q         v   \n482         a     36,75  0,0005125         u         g         e         v   \n486         b     34,83    0,00025         y         p         W         v   \n\n    variable8 variable9 variable10  variable11 variable12 variable13  \\\n0        1,75         f          t           1          t          g   \n2           0         f          t           1          f          g   \n4         0,5         f          f           0          t          g   \n5         0,5         f          f           0          t          g   \n10        1,5         f          f           0          f          g   \n..        ...       ...        ...         ...        ...        ...   \n476       3,5         t          t           6          f          g   \n477      0,25         t          t           3          f          g   \n479       8,5         t          t           5          t          g   \n482         5         t          f           0          t          g   \n486         3         f          f           0          f          s   \n\n     variable14  variable15  variable17 variable18  variable19 classLabel  \n0          80.0           5    800000.0          t           0        no.  \n2          96.0          19    960000.0          t           0        no.  \n4         232.0           0   2320000.0          f           0        no.  \n5         160.0           0   1600000.0          f           0        no.  \n10        280.0           1   2800000.0          f           0        no.  \n..          ...         ...         ...        ...         ...        ...  \n476       400.0         458   4000000.0          t           1       yes.  \n477       260.0       15108   2600000.0          t           1       yes.  \n479       120.0           0   1200000.0          t           1       yes.  \n482         0.0        4000         0.0          f           1       yes.  \n486       200.0           0   2000000.0          f           0        no.  \n\n[203 rows x 19 columns]",
      "text/html": "<div>\n<style scoped>\n    .dataframe tbody tr th:only-of-type {\n        vertical-align: middle;\n    }\n\n    .dataframe tbody tr th {\n        vertical-align: top;\n    }\n\n    .dataframe thead th {\n        text-align: right;\n    }\n</style>\n<table border=\"1\" class=\"dataframe\">\n  <thead>\n    <tr style=\"text-align: right;\">\n      <th></th>\n      <th>variable1</th>\n      <th>variable2</th>\n      <th>variable3</th>\n      <th>variable4</th>\n      <th>variable5</th>\n      <th>variable6</th>\n      <th>variable7</th>\n      <th>variable8</th>\n      <th>variable9</th>\n      <th>variable10</th>\n      <th>variable11</th>\n      <th>variable12</th>\n      <th>variable13</th>\n      <th>variable14</th>\n      <th>variable15</th>\n      <th>variable17</th>\n      <th>variable18</th>\n      <th>variable19</th>\n      <th>classLabel</th>\n    </tr>\n  </thead>\n  <tbody>\n    <tr>\n      <th>0</th>\n      <td>a</td>\n      <td>17,92</td>\n      <td>5,4e-05</td>\n      <td>u</td>\n      <td>g</td>\n      <td>c</td>\n      <td>v</td>\n      <td>1,75</td>\n      <td>f</td>\n      <td>t</td>\n      <td>1</td>\n      <td>t</td>\n      <td>g</td>\n      <td>80.0</td>\n      <td>5</td>\n      <td>800000.0</td>\n      <td>t</td>\n      <td>0</td>\n      <td>no.</td>\n    </tr>\n    <tr>\n      <th>2</th>\n      <td>b</td>\n      <td>31,25</td>\n      <td>0,0001125</td>\n      <td>u</td>\n      <td>g</td>\n      <td>ff</td>\n      <td>ff</td>\n      <td>0</td>\n      <td>f</td>\n      <td>t</td>\n      <td>1</td>\n      <td>f</td>\n      <td>g</td>\n      <td>96.0</td>\n      <td>19</td>\n      <td>960000.0</td>\n      <td>t</td>\n      <td>0</td>\n      <td>no.</td>\n    </tr>\n    <tr>\n      <th>4</th>\n      <td>b</td>\n      <td>32,33</td>\n      <td>0,00035</td>\n      <td>u</td>\n      <td>g</td>\n      <td>k</td>\n      <td>v</td>\n      <td>0,5</td>\n      <td>f</td>\n      <td>f</td>\n      <td>0</td>\n      <td>t</td>\n      <td>g</td>\n      <td>232.0</td>\n      <td>0</td>\n      <td>2320000.0</td>\n      <td>f</td>\n      <td>0</td>\n      <td>no.</td>\n    </tr>\n    <tr>\n      <th>5</th>\n      <td>a</td>\n      <td>34,83</td>\n      <td>0,000125</td>\n      <td>y</td>\n      <td>p</td>\n      <td>i</td>\n      <td>h</td>\n      <td>0,5</td>\n      <td>f</td>\n      <td>f</td>\n      <td>0</td>\n      <td>t</td>\n      <td>g</td>\n      <td>160.0</td>\n      <td>0</td>\n      <td>1600000.0</td>\n      <td>f</td>\n      <td>0</td>\n      <td>no.</td>\n    </tr>\n    <tr>\n      <th>10</th>\n      <td>a</td>\n      <td>24,75</td>\n      <td>0,0013665</td>\n      <td>u</td>\n      <td>g</td>\n      <td>q</td>\n      <td>h</td>\n      <td>1,5</td>\n      <td>f</td>\n      <td>f</td>\n      <td>0</td>\n      <td>f</td>\n      <td>g</td>\n      <td>280.0</td>\n      <td>1</td>\n      <td>2800000.0</td>\n      <td>f</td>\n      <td>0</td>\n      <td>no.</td>\n    </tr>\n    <tr>\n      <th>...</th>\n      <td>...</td>\n      <td>...</td>\n      <td>...</td>\n      <td>...</td>\n      <td>...</td>\n      <td>...</td>\n      <td>...</td>\n      <td>...</td>\n      <td>...</td>\n      <td>...</td>\n      <td>...</td>\n      <td>...</td>\n      <td>...</td>\n      <td>...</td>\n      <td>...</td>\n      <td>...</td>\n      <td>...</td>\n      <td>...</td>\n      <td>...</td>\n    </tr>\n    <tr>\n      <th>476</th>\n      <td>a</td>\n      <td>25</td>\n      <td>0,001233</td>\n      <td>u</td>\n      <td>g</td>\n      <td>cc</td>\n      <td>h</td>\n      <td>3,5</td>\n      <td>t</td>\n      <td>t</td>\n      <td>6</td>\n      <td>f</td>\n      <td>g</td>\n      <td>400.0</td>\n      <td>458</td>\n      <td>4000000.0</td>\n      <td>t</td>\n      <td>1</td>\n      <td>yes.</td>\n    </tr>\n    <tr>\n      <th>477</th>\n      <td>b</td>\n      <td>25,5</td>\n      <td>3,75e-05</td>\n      <td>u</td>\n      <td>g</td>\n      <td>m</td>\n      <td>v</td>\n      <td>0,25</td>\n      <td>t</td>\n      <td>t</td>\n      <td>3</td>\n      <td>f</td>\n      <td>g</td>\n      <td>260.0</td>\n      <td>15108</td>\n      <td>2600000.0</td>\n      <td>t</td>\n      <td>1</td>\n      <td>yes.</td>\n    </tr>\n    <tr>\n      <th>479</th>\n      <td>a</td>\n      <td>23,5</td>\n      <td>9e-04</td>\n      <td>u</td>\n      <td>g</td>\n      <td>q</td>\n      <td>v</td>\n      <td>8,5</td>\n      <td>t</td>\n      <td>t</td>\n      <td>5</td>\n      <td>t</td>\n      <td>g</td>\n      <td>120.0</td>\n      <td>0</td>\n      <td>1200000.0</td>\n      <td>t</td>\n      <td>1</td>\n      <td>yes.</td>\n    </tr>\n    <tr>\n      <th>482</th>\n      <td>a</td>\n      <td>36,75</td>\n      <td>0,0005125</td>\n      <td>u</td>\n      <td>g</td>\n      <td>e</td>\n      <td>v</td>\n      <td>5</td>\n      <td>t</td>\n      <td>f</td>\n      <td>0</td>\n      <td>t</td>\n      <td>g</td>\n      <td>0.0</td>\n      <td>4000</td>\n      <td>0.0</td>\n      <td>f</td>\n      <td>1</td>\n      <td>yes.</td>\n    </tr>\n    <tr>\n      <th>486</th>\n      <td>b</td>\n      <td>34,83</td>\n      <td>0,00025</td>\n      <td>y</td>\n      <td>p</td>\n      <td>W</td>\n      <td>v</td>\n      <td>3</td>\n      <td>f</td>\n      <td>f</td>\n      <td>0</td>\n      <td>f</td>\n      <td>s</td>\n      <td>200.0</td>\n      <td>0</td>\n      <td>2000000.0</td>\n      <td>f</td>\n      <td>0</td>\n      <td>no.</td>\n    </tr>\n  </tbody>\n</table>\n<p>203 rows × 19 columns</p>\n</div>"
     },
     "metadata": {},
     "execution_count": 10
    }
   ],
   "source": [
    "Drop an NaN values\n",
    "df_train.dropna(inplace=True)\n",
    "df_train"
   ]
  },
  {
   "cell_type": "code",
   "execution_count": 11,
   "metadata": {},
   "outputs": [
    {
     "output_type": "execute_result",
     "data": {
      "text/plain": "no.     119\nyes.     84\nName: classLabel, dtype: int64"
     },
     "metadata": {},
     "execution_count": 11
    }
   ],
   "source": [
    "df_train['classLabel'].value_counts()"
   ]
  },
  {
   "cell_type": "markdown",
   "metadata": {},
   "source": [
    "**NOTE:** The dataset is fairly balanced."
   ]
  },
  {
   "cell_type": "code",
   "execution_count": 12,
   "metadata": {},
   "outputs": [],
   "source": [
    "def convert_cols(df):\n",
    "    # Convert columns: 'variable2' 'variable3' 'variable8' to float\n",
    "    df['variable2'] = df['variable2'].apply(lambda x: str(x).replace(',', '.'))\n",
    "    df['variable2'] = pd.to_numeric(df['variable2'])\n",
    "\n",
    "    df['variable3'] = df['variable3'].apply(lambda x: str(x).replace(',', '.'))\n",
    "    df['variable3'] = pd.to_numeric(df['variable3'])\n",
    "\n",
    "    df['variable8'] = df['variable8'].apply(lambda x: str(x).replace(',', '.'))\n",
    "    df['variable8'] = pd.to_numeric(df['variable8'])\n",
    "    return df"
   ]
  },
  {
   "cell_type": "code",
   "execution_count": 13,
   "metadata": {},
   "outputs": [
    {
     "output_type": "execute_result",
     "data": {
      "text/plain": "    variable1  variable2  variable3 variable4 variable5 variable6 variable7  \\\n0           a      17.92   0.000054         u         g         c         v   \n2           b      31.25   0.000112         u         g        ff        ff   \n4           b      32.33   0.000350         u         g         k         v   \n5           a      34.83   0.000125         y         p         i         h   \n10          a      24.75   0.001366         u         g         q         h   \n..        ...        ...        ...       ...       ...       ...       ...   \n476         a      25.00   0.001233         u         g        cc         h   \n477         b      25.50   0.000037         u         g         m         v   \n479         a      23.50   0.000900         u         g         q         v   \n482         a      36.75   0.000513         u         g         e         v   \n486         b      34.83   0.000250         y         p         W         v   \n\n     variable8 variable9 variable10  variable11 variable12 variable13  \\\n0         1.75         f          t           1          t          g   \n2         0.00         f          t           1          f          g   \n4         0.50         f          f           0          t          g   \n5         0.50         f          f           0          t          g   \n10        1.50         f          f           0          f          g   \n..         ...       ...        ...         ...        ...        ...   \n476       3.50         t          t           6          f          g   \n477       0.25         t          t           3          f          g   \n479       8.50         t          t           5          t          g   \n482       5.00         t          f           0          t          g   \n486       3.00         f          f           0          f          s   \n\n     variable14  variable15  variable17 variable18  variable19 classLabel  \n0          80.0           5    800000.0          t           0        no.  \n2          96.0          19    960000.0          t           0        no.  \n4         232.0           0   2320000.0          f           0        no.  \n5         160.0           0   1600000.0          f           0        no.  \n10        280.0           1   2800000.0          f           0        no.  \n..          ...         ...         ...        ...         ...        ...  \n476       400.0         458   4000000.0          t           1       yes.  \n477       260.0       15108   2600000.0          t           1       yes.  \n479       120.0           0   1200000.0          t           1       yes.  \n482         0.0        4000         0.0          f           1       yes.  \n486       200.0           0   2000000.0          f           0        no.  \n\n[203 rows x 19 columns]",
      "text/html": "<div>\n<style scoped>\n    .dataframe tbody tr th:only-of-type {\n        vertical-align: middle;\n    }\n\n    .dataframe tbody tr th {\n        vertical-align: top;\n    }\n\n    .dataframe thead th {\n        text-align: right;\n    }\n</style>\n<table border=\"1\" class=\"dataframe\">\n  <thead>\n    <tr style=\"text-align: right;\">\n      <th></th>\n      <th>variable1</th>\n      <th>variable2</th>\n      <th>variable3</th>\n      <th>variable4</th>\n      <th>variable5</th>\n      <th>variable6</th>\n      <th>variable7</th>\n      <th>variable8</th>\n      <th>variable9</th>\n      <th>variable10</th>\n      <th>variable11</th>\n      <th>variable12</th>\n      <th>variable13</th>\n      <th>variable14</th>\n      <th>variable15</th>\n      <th>variable17</th>\n      <th>variable18</th>\n      <th>variable19</th>\n      <th>classLabel</th>\n    </tr>\n  </thead>\n  <tbody>\n    <tr>\n      <th>0</th>\n      <td>a</td>\n      <td>17.92</td>\n      <td>0.000054</td>\n      <td>u</td>\n      <td>g</td>\n      <td>c</td>\n      <td>v</td>\n      <td>1.75</td>\n      <td>f</td>\n      <td>t</td>\n      <td>1</td>\n      <td>t</td>\n      <td>g</td>\n      <td>80.0</td>\n      <td>5</td>\n      <td>800000.0</td>\n      <td>t</td>\n      <td>0</td>\n      <td>no.</td>\n    </tr>\n    <tr>\n      <th>2</th>\n      <td>b</td>\n      <td>31.25</td>\n      <td>0.000112</td>\n      <td>u</td>\n      <td>g</td>\n      <td>ff</td>\n      <td>ff</td>\n      <td>0.00</td>\n      <td>f</td>\n      <td>t</td>\n      <td>1</td>\n      <td>f</td>\n      <td>g</td>\n      <td>96.0</td>\n      <td>19</td>\n      <td>960000.0</td>\n      <td>t</td>\n      <td>0</td>\n      <td>no.</td>\n    </tr>\n    <tr>\n      <th>4</th>\n      <td>b</td>\n      <td>32.33</td>\n      <td>0.000350</td>\n      <td>u</td>\n      <td>g</td>\n      <td>k</td>\n      <td>v</td>\n      <td>0.50</td>\n      <td>f</td>\n      <td>f</td>\n      <td>0</td>\n      <td>t</td>\n      <td>g</td>\n      <td>232.0</td>\n      <td>0</td>\n      <td>2320000.0</td>\n      <td>f</td>\n      <td>0</td>\n      <td>no.</td>\n    </tr>\n    <tr>\n      <th>5</th>\n      <td>a</td>\n      <td>34.83</td>\n      <td>0.000125</td>\n      <td>y</td>\n      <td>p</td>\n      <td>i</td>\n      <td>h</td>\n      <td>0.50</td>\n      <td>f</td>\n      <td>f</td>\n      <td>0</td>\n      <td>t</td>\n      <td>g</td>\n      <td>160.0</td>\n      <td>0</td>\n      <td>1600000.0</td>\n      <td>f</td>\n      <td>0</td>\n      <td>no.</td>\n    </tr>\n    <tr>\n      <th>10</th>\n      <td>a</td>\n      <td>24.75</td>\n      <td>0.001366</td>\n      <td>u</td>\n      <td>g</td>\n      <td>q</td>\n      <td>h</td>\n      <td>1.50</td>\n      <td>f</td>\n      <td>f</td>\n      <td>0</td>\n      <td>f</td>\n      <td>g</td>\n      <td>280.0</td>\n      <td>1</td>\n      <td>2800000.0</td>\n      <td>f</td>\n      <td>0</td>\n      <td>no.</td>\n    </tr>\n    <tr>\n      <th>...</th>\n      <td>...</td>\n      <td>...</td>\n      <td>...</td>\n      <td>...</td>\n      <td>...</td>\n      <td>...</td>\n      <td>...</td>\n      <td>...</td>\n      <td>...</td>\n      <td>...</td>\n      <td>...</td>\n      <td>...</td>\n      <td>...</td>\n      <td>...</td>\n      <td>...</td>\n      <td>...</td>\n      <td>...</td>\n      <td>...</td>\n      <td>...</td>\n    </tr>\n    <tr>\n      <th>476</th>\n      <td>a</td>\n      <td>25.00</td>\n      <td>0.001233</td>\n      <td>u</td>\n      <td>g</td>\n      <td>cc</td>\n      <td>h</td>\n      <td>3.50</td>\n      <td>t</td>\n      <td>t</td>\n      <td>6</td>\n      <td>f</td>\n      <td>g</td>\n      <td>400.0</td>\n      <td>458</td>\n      <td>4000000.0</td>\n      <td>t</td>\n      <td>1</td>\n      <td>yes.</td>\n    </tr>\n    <tr>\n      <th>477</th>\n      <td>b</td>\n      <td>25.50</td>\n      <td>0.000037</td>\n      <td>u</td>\n      <td>g</td>\n      <td>m</td>\n      <td>v</td>\n      <td>0.25</td>\n      <td>t</td>\n      <td>t</td>\n      <td>3</td>\n      <td>f</td>\n      <td>g</td>\n      <td>260.0</td>\n      <td>15108</td>\n      <td>2600000.0</td>\n      <td>t</td>\n      <td>1</td>\n      <td>yes.</td>\n    </tr>\n    <tr>\n      <th>479</th>\n      <td>a</td>\n      <td>23.50</td>\n      <td>0.000900</td>\n      <td>u</td>\n      <td>g</td>\n      <td>q</td>\n      <td>v</td>\n      <td>8.50</td>\n      <td>t</td>\n      <td>t</td>\n      <td>5</td>\n      <td>t</td>\n      <td>g</td>\n      <td>120.0</td>\n      <td>0</td>\n      <td>1200000.0</td>\n      <td>t</td>\n      <td>1</td>\n      <td>yes.</td>\n    </tr>\n    <tr>\n      <th>482</th>\n      <td>a</td>\n      <td>36.75</td>\n      <td>0.000513</td>\n      <td>u</td>\n      <td>g</td>\n      <td>e</td>\n      <td>v</td>\n      <td>5.00</td>\n      <td>t</td>\n      <td>f</td>\n      <td>0</td>\n      <td>t</td>\n      <td>g</td>\n      <td>0.0</td>\n      <td>4000</td>\n      <td>0.0</td>\n      <td>f</td>\n      <td>1</td>\n      <td>yes.</td>\n    </tr>\n    <tr>\n      <th>486</th>\n      <td>b</td>\n      <td>34.83</td>\n      <td>0.000250</td>\n      <td>y</td>\n      <td>p</td>\n      <td>W</td>\n      <td>v</td>\n      <td>3.00</td>\n      <td>f</td>\n      <td>f</td>\n      <td>0</td>\n      <td>f</td>\n      <td>s</td>\n      <td>200.0</td>\n      <td>0</td>\n      <td>2000000.0</td>\n      <td>f</td>\n      <td>0</td>\n      <td>no.</td>\n    </tr>\n  </tbody>\n</table>\n<p>203 rows × 19 columns</p>\n</div>"
     },
     "metadata": {},
     "execution_count": 13
    }
   ],
   "source": [
    "df_train = convert_cols(df_train)\n",
    "df_train"
   ]
  },
  {
   "cell_type": "code",
   "execution_count": 14,
   "metadata": {
    "tags": []
   },
   "outputs": [
    {
     "output_type": "stream",
     "name": "stdout",
     "text": "<class 'pandas.core.frame.DataFrame'>\nInt64Index: 203 entries, 0 to 486\nData columns (total 19 columns):\n #   Column      Non-Null Count  Dtype  \n---  ------      --------------  -----  \n 0   variable1   203 non-null    object \n 1   variable2   203 non-null    float64\n 2   variable3   203 non-null    float64\n 3   variable4   203 non-null    object \n 4   variable5   203 non-null    object \n 5   variable6   203 non-null    object \n 6   variable7   203 non-null    object \n 7   variable8   203 non-null    float64\n 8   variable9   203 non-null    object \n 9   variable10  203 non-null    object \n 10  variable11  203 non-null    int64  \n 11  variable12  203 non-null    object \n 12  variable13  203 non-null    object \n 13  variable14  203 non-null    float64\n 14  variable15  203 non-null    int64  \n 15  variable17  203 non-null    float64\n 16  variable18  203 non-null    object \n 17  variable19  203 non-null    int64  \n 18  classLabel  203 non-null    object \ndtypes: float64(5), int64(3), object(11)\nmemory usage: 31.7+ KB\n"
    }
   ],
   "source": [
    "df_train.info()"
   ]
  },
  {
   "cell_type": "markdown",
   "metadata": {},
   "source": [
    "#### Encoding categorical columns"
   ]
  },
  {
   "cell_type": "code",
   "execution_count": 15,
   "metadata": {},
   "outputs": [
    {
     "output_type": "execute_result",
     "data": {
      "text/plain": "Index(['variable1', 'variable2', 'variable3', 'variable4', 'variable5',\n       'variable6', 'variable7', 'variable8', 'variable9', 'variable10',\n       'variable11', 'variable12', 'variable13', 'variable14', 'variable15',\n       'variable17', 'variable18', 'variable19', 'classLabel'],\n      dtype='object')"
     },
     "metadata": {},
     "execution_count": 15
    }
   ],
   "source": [
    "df_train.columns"
   ]
  },
  {
   "cell_type": "code",
   "execution_count": 16,
   "metadata": {},
   "outputs": [],
   "source": [
    "from sklearn.preprocessing import LabelEncoder\n",
    "\n",
    "le = LabelEncoder()"
   ]
  },
  {
   "cell_type": "code",
   "execution_count": 17,
   "metadata": {},
   "outputs": [],
   "source": [
    "def encode_df(df):\n",
    "    '''\n",
    "    Encode the categorical columns to numeric values\n",
    "    '''\n",
    "    CATEGORICAL_COLS = ['variable1', 'variable4', 'variable5',\n",
    "       'variable6', 'variable7', 'variable9', 'variable10',\n",
    "       'variable12', 'variable13', 'variable18', 'classLabel']\n",
    "\n",
    "    df_enc = df.copy()\n",
    "    for col in CATEGORICAL_COLS:\n",
    "        df_enc[col] = le.fit_transform(df[col])\n",
    "\n",
    "    return df_enc"
   ]
  },
  {
   "cell_type": "code",
   "execution_count": 18,
   "metadata": {},
   "outputs": [
    {
     "output_type": "execute_result",
     "data": {
      "text/plain": "     variable1  variable2  variable3  variable4  variable5  variable6  \\\n0            0      17.92   0.000054          1          0          2   \n2            1      31.25   0.000112          1          0          6   \n4            1      32.33   0.000350          1          0          9   \n5            0      34.83   0.000125          2          2          7   \n10           0      24.75   0.001366          1          0         11   \n..         ...        ...        ...        ...        ...        ...   \n476          0      25.00   0.001233          1          0          3   \n477          1      25.50   0.000037          1          0         10   \n479          0      23.50   0.000900          1          0         11   \n482          0      36.75   0.000513          1          0          5   \n486          1      34.83   0.000250          2          2          0   \n\n     variable7  variable8  variable9  variable10  variable11  variable12  \\\n0            7       1.75          0           1           1           1   \n2            2       0.00          0           1           1           0   \n4            7       0.50          0           0           0           1   \n5            3       0.50          0           0           0           1   \n10           3       1.50          0           0           0           0   \n..         ...        ...        ...         ...         ...         ...   \n476          3       3.50          1           1           6           0   \n477          7       0.25          1           1           3           0   \n479          7       8.50          1           1           5           1   \n482          7       5.00          1           0           0           1   \n486          7       3.00          0           0           0           0   \n\n     variable13  variable14  variable15  variable17  variable18  variable19  \\\n0             0        80.0           5    800000.0           1           0   \n2             0        96.0          19    960000.0           1           0   \n4             0       232.0           0   2320000.0           0           0   \n5             0       160.0           0   1600000.0           0           0   \n10            0       280.0           1   2800000.0           0           0   \n..          ...         ...         ...         ...         ...         ...   \n476           0       400.0         458   4000000.0           1           1   \n477           0       260.0       15108   2600000.0           1           1   \n479           0       120.0           0   1200000.0           1           1   \n482           0         0.0        4000         0.0           0           1   \n486           2       200.0           0   2000000.0           0           0   \n\n     classLabel  \n0             0  \n2             0  \n4             0  \n5             0  \n10            0  \n..          ...  \n476           1  \n477           1  \n479           1  \n482           1  \n486           0  \n\n[203 rows x 19 columns]",
      "text/html": "<div>\n<style scoped>\n    .dataframe tbody tr th:only-of-type {\n        vertical-align: middle;\n    }\n\n    .dataframe tbody tr th {\n        vertical-align: top;\n    }\n\n    .dataframe thead th {\n        text-align: right;\n    }\n</style>\n<table border=\"1\" class=\"dataframe\">\n  <thead>\n    <tr style=\"text-align: right;\">\n      <th></th>\n      <th>variable1</th>\n      <th>variable2</th>\n      <th>variable3</th>\n      <th>variable4</th>\n      <th>variable5</th>\n      <th>variable6</th>\n      <th>variable7</th>\n      <th>variable8</th>\n      <th>variable9</th>\n      <th>variable10</th>\n      <th>variable11</th>\n      <th>variable12</th>\n      <th>variable13</th>\n      <th>variable14</th>\n      <th>variable15</th>\n      <th>variable17</th>\n      <th>variable18</th>\n      <th>variable19</th>\n      <th>classLabel</th>\n    </tr>\n  </thead>\n  <tbody>\n    <tr>\n      <th>0</th>\n      <td>0</td>\n      <td>17.92</td>\n      <td>0.000054</td>\n      <td>1</td>\n      <td>0</td>\n      <td>2</td>\n      <td>7</td>\n      <td>1.75</td>\n      <td>0</td>\n      <td>1</td>\n      <td>1</td>\n      <td>1</td>\n      <td>0</td>\n      <td>80.0</td>\n      <td>5</td>\n      <td>800000.0</td>\n      <td>1</td>\n      <td>0</td>\n      <td>0</td>\n    </tr>\n    <tr>\n      <th>2</th>\n      <td>1</td>\n      <td>31.25</td>\n      <td>0.000112</td>\n      <td>1</td>\n      <td>0</td>\n      <td>6</td>\n      <td>2</td>\n      <td>0.00</td>\n      <td>0</td>\n      <td>1</td>\n      <td>1</td>\n      <td>0</td>\n      <td>0</td>\n      <td>96.0</td>\n      <td>19</td>\n      <td>960000.0</td>\n      <td>1</td>\n      <td>0</td>\n      <td>0</td>\n    </tr>\n    <tr>\n      <th>4</th>\n      <td>1</td>\n      <td>32.33</td>\n      <td>0.000350</td>\n      <td>1</td>\n      <td>0</td>\n      <td>9</td>\n      <td>7</td>\n      <td>0.50</td>\n      <td>0</td>\n      <td>0</td>\n      <td>0</td>\n      <td>1</td>\n      <td>0</td>\n      <td>232.0</td>\n      <td>0</td>\n      <td>2320000.0</td>\n      <td>0</td>\n      <td>0</td>\n      <td>0</td>\n    </tr>\n    <tr>\n      <th>5</th>\n      <td>0</td>\n      <td>34.83</td>\n      <td>0.000125</td>\n      <td>2</td>\n      <td>2</td>\n      <td>7</td>\n      <td>3</td>\n      <td>0.50</td>\n      <td>0</td>\n      <td>0</td>\n      <td>0</td>\n      <td>1</td>\n      <td>0</td>\n      <td>160.0</td>\n      <td>0</td>\n      <td>1600000.0</td>\n      <td>0</td>\n      <td>0</td>\n      <td>0</td>\n    </tr>\n    <tr>\n      <th>10</th>\n      <td>0</td>\n      <td>24.75</td>\n      <td>0.001366</td>\n      <td>1</td>\n      <td>0</td>\n      <td>11</td>\n      <td>3</td>\n      <td>1.50</td>\n      <td>0</td>\n      <td>0</td>\n      <td>0</td>\n      <td>0</td>\n      <td>0</td>\n      <td>280.0</td>\n      <td>1</td>\n      <td>2800000.0</td>\n      <td>0</td>\n      <td>0</td>\n      <td>0</td>\n    </tr>\n    <tr>\n      <th>...</th>\n      <td>...</td>\n      <td>...</td>\n      <td>...</td>\n      <td>...</td>\n      <td>...</td>\n      <td>...</td>\n      <td>...</td>\n      <td>...</td>\n      <td>...</td>\n      <td>...</td>\n      <td>...</td>\n      <td>...</td>\n      <td>...</td>\n      <td>...</td>\n      <td>...</td>\n      <td>...</td>\n      <td>...</td>\n      <td>...</td>\n      <td>...</td>\n    </tr>\n    <tr>\n      <th>476</th>\n      <td>0</td>\n      <td>25.00</td>\n      <td>0.001233</td>\n      <td>1</td>\n      <td>0</td>\n      <td>3</td>\n      <td>3</td>\n      <td>3.50</td>\n      <td>1</td>\n      <td>1</td>\n      <td>6</td>\n      <td>0</td>\n      <td>0</td>\n      <td>400.0</td>\n      <td>458</td>\n      <td>4000000.0</td>\n      <td>1</td>\n      <td>1</td>\n      <td>1</td>\n    </tr>\n    <tr>\n      <th>477</th>\n      <td>1</td>\n      <td>25.50</td>\n      <td>0.000037</td>\n      <td>1</td>\n      <td>0</td>\n      <td>10</td>\n      <td>7</td>\n      <td>0.25</td>\n      <td>1</td>\n      <td>1</td>\n      <td>3</td>\n      <td>0</td>\n      <td>0</td>\n      <td>260.0</td>\n      <td>15108</td>\n      <td>2600000.0</td>\n      <td>1</td>\n      <td>1</td>\n      <td>1</td>\n    </tr>\n    <tr>\n      <th>479</th>\n      <td>0</td>\n      <td>23.50</td>\n      <td>0.000900</td>\n      <td>1</td>\n      <td>0</td>\n      <td>11</td>\n      <td>7</td>\n      <td>8.50</td>\n      <td>1</td>\n      <td>1</td>\n      <td>5</td>\n      <td>1</td>\n      <td>0</td>\n      <td>120.0</td>\n      <td>0</td>\n      <td>1200000.0</td>\n      <td>1</td>\n      <td>1</td>\n      <td>1</td>\n    </tr>\n    <tr>\n      <th>482</th>\n      <td>0</td>\n      <td>36.75</td>\n      <td>0.000513</td>\n      <td>1</td>\n      <td>0</td>\n      <td>5</td>\n      <td>7</td>\n      <td>5.00</td>\n      <td>1</td>\n      <td>0</td>\n      <td>0</td>\n      <td>1</td>\n      <td>0</td>\n      <td>0.0</td>\n      <td>4000</td>\n      <td>0.0</td>\n      <td>0</td>\n      <td>1</td>\n      <td>1</td>\n    </tr>\n    <tr>\n      <th>486</th>\n      <td>1</td>\n      <td>34.83</td>\n      <td>0.000250</td>\n      <td>2</td>\n      <td>2</td>\n      <td>0</td>\n      <td>7</td>\n      <td>3.00</td>\n      <td>0</td>\n      <td>0</td>\n      <td>0</td>\n      <td>0</td>\n      <td>2</td>\n      <td>200.0</td>\n      <td>0</td>\n      <td>2000000.0</td>\n      <td>0</td>\n      <td>0</td>\n      <td>0</td>\n    </tr>\n  </tbody>\n</table>\n<p>203 rows × 19 columns</p>\n</div>"
     },
     "metadata": {},
     "execution_count": 18
    }
   ],
   "source": [
    "df_train_enc = encode_df(df_train)\n",
    "df_train_enc"
   ]
  },
  {
   "cell_type": "code",
   "execution_count": 19,
   "metadata": {},
   "outputs": [],
   "source": [
    "# Determine the X and Y for train\n",
    "X_train = df_train_enc.iloc[:, :-1]\n",
    "y_train = df_train_enc.iloc[:, -1]"
   ]
  },
  {
   "cell_type": "markdown",
   "metadata": {},
   "source": [
    "#### Re-do pre-processing steps for the validation dataset"
   ]
  },
  {
   "cell_type": "code",
   "execution_count": 20,
   "metadata": {},
   "outputs": [],
   "source": [
    "### Redo the previous steps forthe validation dataset\n",
    "df_val = pd.read_csv(f'{FOLDER_PATH}/validation.csv', sep=';')\n",
    "\n",
    "df_val = df_val.drop_duplicates()\n",
    "df_val.reset_index(inplace=True, drop=True)\n",
    "\n",
    "df_val.dropna(inplace=True)\n",
    "df_val.reset_index(inplace=True, drop=True)\n",
    "\n",
    "df_val = convert_cols(df_val)\n",
    "df_val_enc = encode_df(df_val)\n",
    "\n",
    "X_val = df_val_enc.iloc[:, :-1]\n",
    "y_val = df_val_enc.iloc[:, -1]"
   ]
  },
  {
   "cell_type": "markdown",
   "metadata": {},
   "source": [
    "### Models"
   ]
  },
  {
   "cell_type": "markdown",
   "metadata": {},
   "source": [
    "#### 1. Select model"
   ]
  },
  {
   "cell_type": "code",
   "execution_count": 21,
   "metadata": {},
   "outputs": [],
   "source": [
    "from sklearn.svm import SVC\n",
    "from sklearn.metrics import f1_score"
   ]
  },
  {
   "cell_type": "code",
   "execution_count": 22,
   "metadata": {},
   "outputs": [],
   "source": [
    "# Try a random ML model to see hot it performs\n",
    "svm = SVC()"
   ]
  },
  {
   "cell_type": "markdown",
   "metadata": {},
   "source": [
    "#### 2. Train model"
   ]
  },
  {
   "cell_type": "code",
   "execution_count": 23,
   "metadata": {},
   "outputs": [
    {
     "output_type": "execute_result",
     "data": {
      "text/plain": "SVC(C=1.0, break_ties=False, cache_size=200, class_weight=None, coef0=0.0,\n    decision_function_shape='ovr', degree=3, gamma='scale', kernel='rbf',\n    max_iter=-1, probability=False, random_state=None, shrinking=True,\n    tol=0.001, verbose=False)"
     },
     "metadata": {},
     "execution_count": 23
    }
   ],
   "source": [
    "svm.fit(X_train, y_train)"
   ]
  },
  {
   "cell_type": "markdown",
   "metadata": {},
   "source": [
    "#### 3. Predictions"
   ]
  },
  {
   "cell_type": "code",
   "execution_count": 24,
   "metadata": {
    "tags": []
   },
   "outputs": [
    {
     "output_type": "execute_result",
     "data": {
      "text/plain": "'no'"
     },
     "metadata": {},
     "execution_count": 24
    }
   ],
   "source": [
    "pred = svm.predict(np.array(X_train.iloc[0, :]).reshape(1, -1))\n",
    "\n",
    "pred = 'no' if pred[0] == 0 else 'yes'\n",
    "pred"
   ]
  },
  {
   "cell_type": "code",
   "execution_count": 25,
   "metadata": {},
   "outputs": [
    {
     "output_type": "execute_result",
     "data": {
      "text/plain": "0.5833333333333334"
     },
     "metadata": {},
     "execution_count": 25
    }
   ],
   "source": [
    "preds = svm.predict(X_val)\n",
    "f1_score(preds, y_val, average='micro')"
   ]
  },
  {
   "cell_type": "markdown",
   "metadata": {},
   "source": [
    "Performance isn't bad, but it can definitely be improved"
   ]
  },
  {
   "cell_type": "code",
   "execution_count": 26,
   "metadata": {},
   "outputs": [],
   "source": [
    "from sklearn.neural_network import MLPClassifier\n",
    "from sklearn.neighbors import KNeighborsClassifier\n",
    "from sklearn.svm import SVC\n",
    "from sklearn.ensemble import RandomForestClassifier\n",
    "from sklearn.naive_bayes import GaussianNB\n",
    "from sklearn.linear_model import LogisticRegression\n",
    "\n",
    "# Try multiple classifiers and choose the best one\n",
    "classifiers = [\n",
    "    LogisticRegression(),\n",
    "    KNeighborsClassifier(),\n",
    "    SVC(kernel=\"linear\", C=0.025),\n",
    "    RandomForestClassifier(max_depth=5, n_estimators=10, max_features=1),\n",
    "    MLPClassifier(alpha=1, max_iter=1000),\n",
    "    GaussianNB()]"
   ]
  },
  {
   "cell_type": "code",
   "execution_count": 27,
   "metadata": {
    "tags": []
   },
   "outputs": [
    {
     "output_type": "stream",
     "name": "stdout",
     "text": "Training LogisticRegression\nF1-score: 0.607\nTraining KNeighborsClassifier\nF1-score: 0.619\nTraining SVC\nF1-score: 0.595\nTraining RandomForestClassifier\nF1-score: 0.607\nTraining MLPClassifier\nF1-score: 0.417\nTraining GaussianNB\nF1-score: 0.631\n"
    }
   ],
   "source": [
    "for clf in classifiers:\n",
    "    print(f'Training {clf.__class__.__name__}')\n",
    "    clf.fit(X_train, y_train)\n",
    "    preds = clf.predict(X_val)\n",
    "    print(f'F1-score: {f1_score(preds, y_val, average=\"micro\"):.3f}')"
   ]
  },
  {
   "cell_type": "markdown",
   "metadata": {},
   "source": [
    "#### Random Forrest gave the best f1_score."
   ]
  },
  {
   "cell_type": "code",
   "execution_count": 28,
   "metadata": {
    "tags": []
   },
   "outputs": [
    {
     "output_type": "stream",
     "name": "stdout",
     "text": "Training RandomForestClassifier\nF1-score: 0.762\n"
    }
   ],
   "source": [
    "clf = RandomForestClassifier(max_depth=5, n_estimators=10, max_features=1)\n",
    "print(f'Training {clf.__class__.__name__}')\n",
    "clf.fit(X_train, y_train)\n",
    "preds = clf.predict(X_val)\n",
    "print(f'F1-score: {f1_score(preds, y_val, average=\"micro\"):.3f}')"
   ]
  },
  {
   "cell_type": "markdown",
   "metadata": {},
   "source": [
    "#### Confusion Matrix"
   ]
  },
  {
   "cell_type": "code",
   "execution_count": 29,
   "metadata": {},
   "outputs": [
    {
     "output_type": "execute_result",
     "data": {
      "text/plain": "Text(0.5, 1, 'Confusion Matrix of Rando Forrest Classifier')"
     },
     "metadata": {},
     "execution_count": 29
    },
    {
     "output_type": "display_data",
     "data": {
      "text/plain": "<Figure size 1152x648 with 2 Axes>",
      "image/svg+xml": "<?xml version=\"1.0\" encoding=\"utf-8\" standalone=\"no\"?>\n<!DOCTYPE svg PUBLIC \"-//W3C//DTD SVG 1.1//EN\"\n  \"http://www.w3.org/Graphics/SVG/1.1/DTD/svg11.dtd\">\n<!-- Created with matplotlib (https://matplotlib.org/) -->\n<svg height=\"535.43625pt\" version=\"1.1\" viewBox=\"0 0 834.145125 535.43625\" width=\"834.145125pt\" xmlns=\"http://www.w3.org/2000/svg\" xmlns:xlink=\"http://www.w3.org/1999/xlink\">\n <defs>\n  <style type=\"text/css\">\n*{stroke-linecap:butt;stroke-linejoin:round;}\n  </style>\n </defs>\n <g id=\"figure_1\">\n  <g id=\"patch_1\">\n   <path d=\"M 0 535.43625 \nL 834.145125 535.43625 \nL 834.145125 0 \nL 0 0 \nz\n\" style=\"fill:none;\"/>\n  </g>\n  <g id=\"axes_1\">\n   <g id=\"patch_2\">\n    <path d=\"M 23.878125 511.558125 \nL 738.118125 511.558125 \nL 738.118125 22.318125 \nL 23.878125 22.318125 \nz\n\" style=\"fill:#ffffff;\"/>\n   </g>\n   <g id=\"QuadMesh_1\">\n    <path clip-path=\"url(#p8c9b29dde8)\" d=\"M 23.878125 22.318125 \nL 380.998125 22.318125 \nL 380.998125 266.938125 \nL 23.878125 266.938125 \nL 23.878125 22.318125 \n\" style=\"fill:#faebdd;\"/>\n    <path clip-path=\"url(#p8c9b29dde8)\" d=\"M 380.998125 22.318125 \nL 738.118125 22.318125 \nL 738.118125 266.938125 \nL 380.998125 266.938125 \nL 380.998125 22.318125 \n\" style=\"fill:#6b1f56;\"/>\n    <path clip-path=\"url(#p8c9b29dde8)\" d=\"M 23.878125 266.938125 \nL 380.998125 266.938125 \nL 380.998125 511.558125 \nL 23.878125 511.558125 \nL 23.878125 266.938125 \n\" style=\"fill:#03051a;\"/>\n    <path clip-path=\"url(#p8c9b29dde8)\" d=\"M 380.998125 266.938125 \nL 738.118125 266.938125 \nL 738.118125 511.558125 \nL 380.998125 511.558125 \nL 380.998125 266.938125 \n\" style=\"fill:#f69b71;\"/>\n   </g>\n   <g id=\"matplotlib.axis_1\">\n    <g id=\"xtick_1\">\n     <g id=\"line2d_1\">\n      <defs>\n       <path d=\"M 0 0 \nL 0 3.5 \n\" id=\"ma26edd1a91\" style=\"stroke:#000000;stroke-width:0.8;\"/>\n      </defs>\n      <g>\n       <use style=\"stroke:#000000;stroke-width:0.8;\" x=\"202.438125\" xlink:href=\"#ma26edd1a91\" y=\"511.558125\"/>\n      </g>\n     </g>\n     <g id=\"text_1\">\n      <!-- 0 -->\n      <defs>\n       <path d=\"M 31.78125 66.40625 \nQ 24.171875 66.40625 20.328125 58.90625 \nQ 16.5 51.421875 16.5 36.375 \nQ 16.5 21.390625 20.328125 13.890625 \nQ 24.171875 6.390625 31.78125 6.390625 \nQ 39.453125 6.390625 43.28125 13.890625 \nQ 47.125 21.390625 47.125 36.375 \nQ 47.125 51.421875 43.28125 58.90625 \nQ 39.453125 66.40625 31.78125 66.40625 \nz\nM 31.78125 74.21875 \nQ 44.046875 74.21875 50.515625 64.515625 \nQ 56.984375 54.828125 56.984375 36.375 \nQ 56.984375 17.96875 50.515625 8.265625 \nQ 44.046875 -1.421875 31.78125 -1.421875 \nQ 19.53125 -1.421875 13.0625 8.265625 \nQ 6.59375 17.96875 6.59375 36.375 \nQ 6.59375 54.828125 13.0625 64.515625 \nQ 19.53125 74.21875 31.78125 74.21875 \nz\n\" id=\"DejaVuSans-48\"/>\n      </defs>\n      <g transform=\"translate(199.256875 526.156562)scale(0.1 -0.1)\">\n       <use xlink:href=\"#DejaVuSans-48\"/>\n      </g>\n     </g>\n    </g>\n    <g id=\"xtick_2\">\n     <g id=\"line2d_2\">\n      <g>\n       <use style=\"stroke:#000000;stroke-width:0.8;\" x=\"559.558125\" xlink:href=\"#ma26edd1a91\" y=\"511.558125\"/>\n      </g>\n     </g>\n     <g id=\"text_2\">\n      <!-- 1 -->\n      <defs>\n       <path d=\"M 12.40625 8.296875 \nL 28.515625 8.296875 \nL 28.515625 63.921875 \nL 10.984375 60.40625 \nL 10.984375 69.390625 \nL 28.421875 72.90625 \nL 38.28125 72.90625 \nL 38.28125 8.296875 \nL 54.390625 8.296875 \nL 54.390625 0 \nL 12.40625 0 \nz\n\" id=\"DejaVuSans-49\"/>\n      </defs>\n      <g transform=\"translate(556.376875 526.156562)scale(0.1 -0.1)\">\n       <use xlink:href=\"#DejaVuSans-49\"/>\n      </g>\n     </g>\n    </g>\n   </g>\n   <g id=\"matplotlib.axis_2\">\n    <g id=\"ytick_1\">\n     <g id=\"line2d_3\">\n      <defs>\n       <path d=\"M 0 0 \nL -3.5 0 \n\" id=\"m033438c907\" style=\"stroke:#000000;stroke-width:0.8;\"/>\n      </defs>\n      <g>\n       <use style=\"stroke:#000000;stroke-width:0.8;\" x=\"23.878125\" xlink:href=\"#m033438c907\" y=\"144.628125\"/>\n      </g>\n     </g>\n     <g id=\"text_3\">\n      <!-- 0 -->\n      <g transform=\"translate(14.798438 147.191406)rotate(-90)scale(0.1 -0.1)\">\n       <use xlink:href=\"#DejaVuSans-48\"/>\n      </g>\n     </g>\n    </g>\n    <g id=\"ytick_2\">\n     <g id=\"line2d_4\">\n      <g>\n       <use style=\"stroke:#000000;stroke-width:0.8;\" x=\"23.878125\" xlink:href=\"#m033438c907\" y=\"389.248125\"/>\n      </g>\n     </g>\n     <g id=\"text_4\">\n      <!-- 1 -->\n      <g transform=\"translate(14.798438 391.811406)rotate(-90)scale(0.1 -0.1)\">\n       <use xlink:href=\"#DejaVuSans-49\"/>\n      </g>\n     </g>\n    </g>\n   </g>\n   <g id=\"text_5\">\n    <!-- 35 -->\n    <defs>\n     <path d=\"M 40.578125 39.3125 \nQ 47.65625 37.796875 51.625 33 \nQ 55.609375 28.21875 55.609375 21.1875 \nQ 55.609375 10.40625 48.1875 4.484375 \nQ 40.765625 -1.421875 27.09375 -1.421875 \nQ 22.515625 -1.421875 17.65625 -0.515625 \nQ 12.796875 0.390625 7.625 2.203125 \nL 7.625 11.71875 \nQ 11.71875 9.328125 16.59375 8.109375 \nQ 21.484375 6.890625 26.8125 6.890625 \nQ 36.078125 6.890625 40.9375 10.546875 \nQ 45.796875 14.203125 45.796875 21.1875 \nQ 45.796875 27.640625 41.28125 31.265625 \nQ 36.765625 34.90625 28.71875 34.90625 \nL 20.21875 34.90625 \nL 20.21875 43.015625 \nL 29.109375 43.015625 \nQ 36.375 43.015625 40.234375 45.921875 \nQ 44.09375 48.828125 44.09375 54.296875 \nQ 44.09375 59.90625 40.109375 62.90625 \nQ 36.140625 65.921875 28.71875 65.921875 \nQ 24.65625 65.921875 20.015625 65.03125 \nQ 15.375 64.15625 9.8125 62.3125 \nL 9.8125 71.09375 \nQ 15.4375 72.65625 20.34375 73.4375 \nQ 25.25 74.21875 29.59375 74.21875 \nQ 40.828125 74.21875 47.359375 69.109375 \nQ 53.90625 64.015625 53.90625 55.328125 \nQ 53.90625 49.265625 50.4375 45.09375 \nQ 46.96875 40.921875 40.578125 39.3125 \nz\n\" id=\"DejaVuSans-51\"/>\n     <path d=\"M 10.796875 72.90625 \nL 49.515625 72.90625 \nL 49.515625 64.59375 \nL 19.828125 64.59375 \nL 19.828125 46.734375 \nQ 21.96875 47.46875 24.109375 47.828125 \nQ 26.265625 48.1875 28.421875 48.1875 \nQ 40.625 48.1875 47.75 41.5 \nQ 54.890625 34.8125 54.890625 23.390625 \nQ 54.890625 11.625 47.5625 5.09375 \nQ 40.234375 -1.421875 26.90625 -1.421875 \nQ 22.3125 -1.421875 17.546875 -0.640625 \nQ 12.796875 0.140625 7.71875 1.703125 \nL 7.71875 11.625 \nQ 12.109375 9.234375 16.796875 8.0625 \nQ 21.484375 6.890625 26.703125 6.890625 \nQ 35.15625 6.890625 40.078125 11.328125 \nQ 45.015625 15.765625 45.015625 23.390625 \nQ 45.015625 31 40.078125 35.4375 \nQ 35.15625 39.890625 26.703125 39.890625 \nQ 22.75 39.890625 18.8125 39.015625 \nQ 14.890625 38.140625 10.796875 36.28125 \nz\n\" id=\"DejaVuSans-53\"/>\n    </defs>\n    <g style=\"fill:#262626;\" transform=\"translate(196.075625 147.3875)scale(0.1 -0.1)\">\n     <use xlink:href=\"#DejaVuSans-51\"/>\n     <use x=\"63.623047\" xlink:href=\"#DejaVuSans-53\"/>\n    </g>\n   </g>\n   <g id=\"text_6\">\n    <!-- 14 -->\n    <defs>\n     <path d=\"M 37.796875 64.3125 \nL 12.890625 25.390625 \nL 37.796875 25.390625 \nz\nM 35.203125 72.90625 \nL 47.609375 72.90625 \nL 47.609375 25.390625 \nL 58.015625 25.390625 \nL 58.015625 17.1875 \nL 47.609375 17.1875 \nL 47.609375 0 \nL 37.796875 0 \nL 37.796875 17.1875 \nL 4.890625 17.1875 \nL 4.890625 26.703125 \nz\n\" id=\"DejaVuSans-52\"/>\n    </defs>\n    <g style=\"fill:#ffffff;\" transform=\"translate(553.195625 147.3875)scale(0.1 -0.1)\">\n     <use xlink:href=\"#DejaVuSans-49\"/>\n     <use x=\"63.623047\" xlink:href=\"#DejaVuSans-52\"/>\n    </g>\n   </g>\n   <g id=\"text_7\">\n    <!-- 6 -->\n    <defs>\n     <path d=\"M 33.015625 40.375 \nQ 26.375 40.375 22.484375 35.828125 \nQ 18.609375 31.296875 18.609375 23.390625 \nQ 18.609375 15.53125 22.484375 10.953125 \nQ 26.375 6.390625 33.015625 6.390625 \nQ 39.65625 6.390625 43.53125 10.953125 \nQ 47.40625 15.53125 47.40625 23.390625 \nQ 47.40625 31.296875 43.53125 35.828125 \nQ 39.65625 40.375 33.015625 40.375 \nz\nM 52.59375 71.296875 \nL 52.59375 62.3125 \nQ 48.875 64.0625 45.09375 64.984375 \nQ 41.3125 65.921875 37.59375 65.921875 \nQ 27.828125 65.921875 22.671875 59.328125 \nQ 17.53125 52.734375 16.796875 39.40625 \nQ 19.671875 43.65625 24.015625 45.921875 \nQ 28.375 48.1875 33.59375 48.1875 \nQ 44.578125 48.1875 50.953125 41.515625 \nQ 57.328125 34.859375 57.328125 23.390625 \nQ 57.328125 12.15625 50.6875 5.359375 \nQ 44.046875 -1.421875 33.015625 -1.421875 \nQ 20.359375 -1.421875 13.671875 8.265625 \nQ 6.984375 17.96875 6.984375 36.375 \nQ 6.984375 53.65625 15.1875 63.9375 \nQ 23.390625 74.21875 37.203125 74.21875 \nQ 40.921875 74.21875 44.703125 73.484375 \nQ 48.484375 72.75 52.59375 71.296875 \nz\n\" id=\"DejaVuSans-54\"/>\n    </defs>\n    <g style=\"fill:#ffffff;\" transform=\"translate(199.256875 392.0075)scale(0.1 -0.1)\">\n     <use xlink:href=\"#DejaVuSans-54\"/>\n    </g>\n   </g>\n   <g id=\"text_8\">\n    <!-- 29 -->\n    <defs>\n     <path d=\"M 19.1875 8.296875 \nL 53.609375 8.296875 \nL 53.609375 0 \nL 7.328125 0 \nL 7.328125 8.296875 \nQ 12.9375 14.109375 22.625 23.890625 \nQ 32.328125 33.6875 34.8125 36.53125 \nQ 39.546875 41.84375 41.421875 45.53125 \nQ 43.3125 49.21875 43.3125 52.78125 \nQ 43.3125 58.59375 39.234375 62.25 \nQ 35.15625 65.921875 28.609375 65.921875 \nQ 23.96875 65.921875 18.8125 64.3125 \nQ 13.671875 62.703125 7.8125 59.421875 \nL 7.8125 69.390625 \nQ 13.765625 71.78125 18.9375 73 \nQ 24.125 74.21875 28.421875 74.21875 \nQ 39.75 74.21875 46.484375 68.546875 \nQ 53.21875 62.890625 53.21875 53.421875 \nQ 53.21875 48.921875 51.53125 44.890625 \nQ 49.859375 40.875 45.40625 35.40625 \nQ 44.1875 33.984375 37.640625 27.21875 \nQ 31.109375 20.453125 19.1875 8.296875 \nz\n\" id=\"DejaVuSans-50\"/>\n     <path d=\"M 10.984375 1.515625 \nL 10.984375 10.5 \nQ 14.703125 8.734375 18.5 7.8125 \nQ 22.3125 6.890625 25.984375 6.890625 \nQ 35.75 6.890625 40.890625 13.453125 \nQ 46.046875 20.015625 46.78125 33.40625 \nQ 43.953125 29.203125 39.59375 26.953125 \nQ 35.25 24.703125 29.984375 24.703125 \nQ 19.046875 24.703125 12.671875 31.3125 \nQ 6.296875 37.9375 6.296875 49.421875 \nQ 6.296875 60.640625 12.9375 67.421875 \nQ 19.578125 74.21875 30.609375 74.21875 \nQ 43.265625 74.21875 49.921875 64.515625 \nQ 56.59375 54.828125 56.59375 36.375 \nQ 56.59375 19.140625 48.40625 8.859375 \nQ 40.234375 -1.421875 26.421875 -1.421875 \nQ 22.703125 -1.421875 18.890625 -0.6875 \nQ 15.09375 0.046875 10.984375 1.515625 \nz\nM 30.609375 32.421875 \nQ 37.25 32.421875 41.125 36.953125 \nQ 45.015625 41.5 45.015625 49.421875 \nQ 45.015625 57.28125 41.125 61.84375 \nQ 37.25 66.40625 30.609375 66.40625 \nQ 23.96875 66.40625 20.09375 61.84375 \nQ 16.21875 57.28125 16.21875 49.421875 \nQ 16.21875 41.5 20.09375 36.953125 \nQ 23.96875 32.421875 30.609375 32.421875 \nz\n\" id=\"DejaVuSans-57\"/>\n    </defs>\n    <g style=\"fill:#262626;\" transform=\"translate(553.195625 392.0075)scale(0.1 -0.1)\">\n     <use xlink:href=\"#DejaVuSans-50\"/>\n     <use x=\"63.623047\" xlink:href=\"#DejaVuSans-57\"/>\n    </g>\n   </g>\n   <g id=\"text_9\">\n    <!-- Confusion Matrix of Rando Forrest Classifier -->\n    <defs>\n     <path d=\"M 64.40625 67.28125 \nL 64.40625 56.890625 \nQ 59.421875 61.53125 53.78125 63.8125 \nQ 48.140625 66.109375 41.796875 66.109375 \nQ 29.296875 66.109375 22.65625 58.46875 \nQ 16.015625 50.828125 16.015625 36.375 \nQ 16.015625 21.96875 22.65625 14.328125 \nQ 29.296875 6.6875 41.796875 6.6875 \nQ 48.140625 6.6875 53.78125 8.984375 \nQ 59.421875 11.28125 64.40625 15.921875 \nL 64.40625 5.609375 \nQ 59.234375 2.09375 53.4375 0.328125 \nQ 47.65625 -1.421875 41.21875 -1.421875 \nQ 24.65625 -1.421875 15.125 8.703125 \nQ 5.609375 18.84375 5.609375 36.375 \nQ 5.609375 53.953125 15.125 64.078125 \nQ 24.65625 74.21875 41.21875 74.21875 \nQ 47.75 74.21875 53.53125 72.484375 \nQ 59.328125 70.75 64.40625 67.28125 \nz\n\" id=\"DejaVuSans-67\"/>\n     <path d=\"M 30.609375 48.390625 \nQ 23.390625 48.390625 19.1875 42.75 \nQ 14.984375 37.109375 14.984375 27.296875 \nQ 14.984375 17.484375 19.15625 11.84375 \nQ 23.34375 6.203125 30.609375 6.203125 \nQ 37.796875 6.203125 41.984375 11.859375 \nQ 46.1875 17.53125 46.1875 27.296875 \nQ 46.1875 37.015625 41.984375 42.703125 \nQ 37.796875 48.390625 30.609375 48.390625 \nz\nM 30.609375 56 \nQ 42.328125 56 49.015625 48.375 \nQ 55.71875 40.765625 55.71875 27.296875 \nQ 55.71875 13.875 49.015625 6.21875 \nQ 42.328125 -1.421875 30.609375 -1.421875 \nQ 18.84375 -1.421875 12.171875 6.21875 \nQ 5.515625 13.875 5.515625 27.296875 \nQ 5.515625 40.765625 12.171875 48.375 \nQ 18.84375 56 30.609375 56 \nz\n\" id=\"DejaVuSans-111\"/>\n     <path d=\"M 54.890625 33.015625 \nL 54.890625 0 \nL 45.90625 0 \nL 45.90625 32.71875 \nQ 45.90625 40.484375 42.875 44.328125 \nQ 39.84375 48.1875 33.796875 48.1875 \nQ 26.515625 48.1875 22.3125 43.546875 \nQ 18.109375 38.921875 18.109375 30.90625 \nL 18.109375 0 \nL 9.078125 0 \nL 9.078125 54.6875 \nL 18.109375 54.6875 \nL 18.109375 46.1875 \nQ 21.34375 51.125 25.703125 53.5625 \nQ 30.078125 56 35.796875 56 \nQ 45.21875 56 50.046875 50.171875 \nQ 54.890625 44.34375 54.890625 33.015625 \nz\n\" id=\"DejaVuSans-110\"/>\n     <path d=\"M 37.109375 75.984375 \nL 37.109375 68.5 \nL 28.515625 68.5 \nQ 23.6875 68.5 21.796875 66.546875 \nQ 19.921875 64.59375 19.921875 59.515625 \nL 19.921875 54.6875 \nL 34.71875 54.6875 \nL 34.71875 47.703125 \nL 19.921875 47.703125 \nL 19.921875 0 \nL 10.890625 0 \nL 10.890625 47.703125 \nL 2.296875 47.703125 \nL 2.296875 54.6875 \nL 10.890625 54.6875 \nL 10.890625 58.5 \nQ 10.890625 67.625 15.140625 71.796875 \nQ 19.390625 75.984375 28.609375 75.984375 \nz\n\" id=\"DejaVuSans-102\"/>\n     <path d=\"M 8.5 21.578125 \nL 8.5 54.6875 \nL 17.484375 54.6875 \nL 17.484375 21.921875 \nQ 17.484375 14.15625 20.5 10.265625 \nQ 23.53125 6.390625 29.59375 6.390625 \nQ 36.859375 6.390625 41.078125 11.03125 \nQ 45.3125 15.671875 45.3125 23.6875 \nL 45.3125 54.6875 \nL 54.296875 54.6875 \nL 54.296875 0 \nL 45.3125 0 \nL 45.3125 8.40625 \nQ 42.046875 3.421875 37.71875 1 \nQ 33.40625 -1.421875 27.6875 -1.421875 \nQ 18.265625 -1.421875 13.375 4.4375 \nQ 8.5 10.296875 8.5 21.578125 \nz\nM 31.109375 56 \nz\n\" id=\"DejaVuSans-117\"/>\n     <path d=\"M 44.28125 53.078125 \nL 44.28125 44.578125 \nQ 40.484375 46.53125 36.375 47.5 \nQ 32.28125 48.484375 27.875 48.484375 \nQ 21.1875 48.484375 17.84375 46.4375 \nQ 14.5 44.390625 14.5 40.28125 \nQ 14.5 37.15625 16.890625 35.375 \nQ 19.28125 33.59375 26.515625 31.984375 \nL 29.59375 31.296875 \nQ 39.15625 29.25 43.1875 25.515625 \nQ 47.21875 21.78125 47.21875 15.09375 \nQ 47.21875 7.46875 41.1875 3.015625 \nQ 35.15625 -1.421875 24.609375 -1.421875 \nQ 20.21875 -1.421875 15.453125 -0.5625 \nQ 10.6875 0.296875 5.421875 2 \nL 5.421875 11.28125 \nQ 10.40625 8.6875 15.234375 7.390625 \nQ 20.0625 6.109375 24.8125 6.109375 \nQ 31.15625 6.109375 34.5625 8.28125 \nQ 37.984375 10.453125 37.984375 14.40625 \nQ 37.984375 18.0625 35.515625 20.015625 \nQ 33.0625 21.96875 24.703125 23.78125 \nL 21.578125 24.515625 \nQ 13.234375 26.265625 9.515625 29.90625 \nQ 5.8125 33.546875 5.8125 39.890625 \nQ 5.8125 47.609375 11.28125 51.796875 \nQ 16.75 56 26.8125 56 \nQ 31.78125 56 36.171875 55.265625 \nQ 40.578125 54.546875 44.28125 53.078125 \nz\n\" id=\"DejaVuSans-115\"/>\n     <path d=\"M 9.421875 54.6875 \nL 18.40625 54.6875 \nL 18.40625 0 \nL 9.421875 0 \nz\nM 9.421875 75.984375 \nL 18.40625 75.984375 \nL 18.40625 64.59375 \nL 9.421875 64.59375 \nz\n\" id=\"DejaVuSans-105\"/>\n     <path id=\"DejaVuSans-32\"/>\n     <path d=\"M 9.8125 72.90625 \nL 24.515625 72.90625 \nL 43.109375 23.296875 \nL 61.8125 72.90625 \nL 76.515625 72.90625 \nL 76.515625 0 \nL 66.890625 0 \nL 66.890625 64.015625 \nL 48.09375 14.015625 \nL 38.1875 14.015625 \nL 19.390625 64.015625 \nL 19.390625 0 \nL 9.8125 0 \nz\n\" id=\"DejaVuSans-77\"/>\n     <path d=\"M 34.28125 27.484375 \nQ 23.390625 27.484375 19.1875 25 \nQ 14.984375 22.515625 14.984375 16.5 \nQ 14.984375 11.71875 18.140625 8.90625 \nQ 21.296875 6.109375 26.703125 6.109375 \nQ 34.1875 6.109375 38.703125 11.40625 \nQ 43.21875 16.703125 43.21875 25.484375 \nL 43.21875 27.484375 \nz\nM 52.203125 31.203125 \nL 52.203125 0 \nL 43.21875 0 \nL 43.21875 8.296875 \nQ 40.140625 3.328125 35.546875 0.953125 \nQ 30.953125 -1.421875 24.3125 -1.421875 \nQ 15.921875 -1.421875 10.953125 3.296875 \nQ 6 8.015625 6 15.921875 \nQ 6 25.140625 12.171875 29.828125 \nQ 18.359375 34.515625 30.609375 34.515625 \nL 43.21875 34.515625 \nL 43.21875 35.40625 \nQ 43.21875 41.609375 39.140625 45 \nQ 35.0625 48.390625 27.6875 48.390625 \nQ 23 48.390625 18.546875 47.265625 \nQ 14.109375 46.140625 10.015625 43.890625 \nL 10.015625 52.203125 \nQ 14.9375 54.109375 19.578125 55.046875 \nQ 24.21875 56 28.609375 56 \nQ 40.484375 56 46.34375 49.84375 \nQ 52.203125 43.703125 52.203125 31.203125 \nz\n\" id=\"DejaVuSans-97\"/>\n     <path d=\"M 18.3125 70.21875 \nL 18.3125 54.6875 \nL 36.8125 54.6875 \nL 36.8125 47.703125 \nL 18.3125 47.703125 \nL 18.3125 18.015625 \nQ 18.3125 11.328125 20.140625 9.421875 \nQ 21.96875 7.515625 27.59375 7.515625 \nL 36.8125 7.515625 \nL 36.8125 0 \nL 27.59375 0 \nQ 17.1875 0 13.234375 3.875 \nQ 9.28125 7.765625 9.28125 18.015625 \nL 9.28125 47.703125 \nL 2.6875 47.703125 \nL 2.6875 54.6875 \nL 9.28125 54.6875 \nL 9.28125 70.21875 \nz\n\" id=\"DejaVuSans-116\"/>\n     <path d=\"M 41.109375 46.296875 \nQ 39.59375 47.171875 37.8125 47.578125 \nQ 36.03125 48 33.890625 48 \nQ 26.265625 48 22.1875 43.046875 \nQ 18.109375 38.09375 18.109375 28.8125 \nL 18.109375 0 \nL 9.078125 0 \nL 9.078125 54.6875 \nL 18.109375 54.6875 \nL 18.109375 46.1875 \nQ 20.953125 51.171875 25.484375 53.578125 \nQ 30.03125 56 36.53125 56 \nQ 37.453125 56 38.578125 55.875 \nQ 39.703125 55.765625 41.0625 55.515625 \nz\n\" id=\"DejaVuSans-114\"/>\n     <path d=\"M 54.890625 54.6875 \nL 35.109375 28.078125 \nL 55.90625 0 \nL 45.3125 0 \nL 29.390625 21.484375 \nL 13.484375 0 \nL 2.875 0 \nL 24.125 28.609375 \nL 4.6875 54.6875 \nL 15.28125 54.6875 \nL 29.78125 35.203125 \nL 44.28125 54.6875 \nz\n\" id=\"DejaVuSans-120\"/>\n     <path d=\"M 44.390625 34.1875 \nQ 47.5625 33.109375 50.5625 29.59375 \nQ 53.5625 26.078125 56.59375 19.921875 \nL 66.609375 0 \nL 56 0 \nL 46.6875 18.703125 \nQ 43.0625 26.03125 39.671875 28.421875 \nQ 36.28125 30.8125 30.421875 30.8125 \nL 19.671875 30.8125 \nL 19.671875 0 \nL 9.8125 0 \nL 9.8125 72.90625 \nL 32.078125 72.90625 \nQ 44.578125 72.90625 50.734375 67.671875 \nQ 56.890625 62.453125 56.890625 51.90625 \nQ 56.890625 45.015625 53.6875 40.46875 \nQ 50.484375 35.9375 44.390625 34.1875 \nz\nM 19.671875 64.796875 \nL 19.671875 38.921875 \nL 32.078125 38.921875 \nQ 39.203125 38.921875 42.84375 42.21875 \nQ 46.484375 45.515625 46.484375 51.90625 \nQ 46.484375 58.296875 42.84375 61.546875 \nQ 39.203125 64.796875 32.078125 64.796875 \nz\n\" id=\"DejaVuSans-82\"/>\n     <path d=\"M 45.40625 46.390625 \nL 45.40625 75.984375 \nL 54.390625 75.984375 \nL 54.390625 0 \nL 45.40625 0 \nL 45.40625 8.203125 \nQ 42.578125 3.328125 38.25 0.953125 \nQ 33.9375 -1.421875 27.875 -1.421875 \nQ 17.96875 -1.421875 11.734375 6.484375 \nQ 5.515625 14.40625 5.515625 27.296875 \nQ 5.515625 40.1875 11.734375 48.09375 \nQ 17.96875 56 27.875 56 \nQ 33.9375 56 38.25 53.625 \nQ 42.578125 51.265625 45.40625 46.390625 \nz\nM 14.796875 27.296875 \nQ 14.796875 17.390625 18.875 11.75 \nQ 22.953125 6.109375 30.078125 6.109375 \nQ 37.203125 6.109375 41.296875 11.75 \nQ 45.40625 17.390625 45.40625 27.296875 \nQ 45.40625 37.203125 41.296875 42.84375 \nQ 37.203125 48.484375 30.078125 48.484375 \nQ 22.953125 48.484375 18.875 42.84375 \nQ 14.796875 37.203125 14.796875 27.296875 \nz\n\" id=\"DejaVuSans-100\"/>\n     <path d=\"M 9.8125 72.90625 \nL 51.703125 72.90625 \nL 51.703125 64.59375 \nL 19.671875 64.59375 \nL 19.671875 43.109375 \nL 48.578125 43.109375 \nL 48.578125 34.8125 \nL 19.671875 34.8125 \nL 19.671875 0 \nL 9.8125 0 \nz\n\" id=\"DejaVuSans-70\"/>\n     <path d=\"M 56.203125 29.59375 \nL 56.203125 25.203125 \nL 14.890625 25.203125 \nQ 15.484375 15.921875 20.484375 11.0625 \nQ 25.484375 6.203125 34.421875 6.203125 \nQ 39.59375 6.203125 44.453125 7.46875 \nQ 49.3125 8.734375 54.109375 11.28125 \nL 54.109375 2.78125 \nQ 49.265625 0.734375 44.1875 -0.34375 \nQ 39.109375 -1.421875 33.890625 -1.421875 \nQ 20.796875 -1.421875 13.15625 6.1875 \nQ 5.515625 13.8125 5.515625 26.8125 \nQ 5.515625 40.234375 12.765625 48.109375 \nQ 20.015625 56 32.328125 56 \nQ 43.359375 56 49.78125 48.890625 \nQ 56.203125 41.796875 56.203125 29.59375 \nz\nM 47.21875 32.234375 \nQ 47.125 39.59375 43.09375 43.984375 \nQ 39.0625 48.390625 32.421875 48.390625 \nQ 24.90625 48.390625 20.390625 44.140625 \nQ 15.875 39.890625 15.1875 32.171875 \nz\n\" id=\"DejaVuSans-101\"/>\n     <path d=\"M 9.421875 75.984375 \nL 18.40625 75.984375 \nL 18.40625 0 \nL 9.421875 0 \nz\n\" id=\"DejaVuSans-108\"/>\n    </defs>\n    <g transform=\"translate(249.21 16.318125)scale(0.12 -0.12)\">\n     <use xlink:href=\"#DejaVuSans-67\"/>\n     <use x=\"69.824219\" xlink:href=\"#DejaVuSans-111\"/>\n     <use x=\"131.005859\" xlink:href=\"#DejaVuSans-110\"/>\n     <use x=\"194.384766\" xlink:href=\"#DejaVuSans-102\"/>\n     <use x=\"229.589844\" xlink:href=\"#DejaVuSans-117\"/>\n     <use x=\"292.96875\" xlink:href=\"#DejaVuSans-115\"/>\n     <use x=\"345.068359\" xlink:href=\"#DejaVuSans-105\"/>\n     <use x=\"372.851562\" xlink:href=\"#DejaVuSans-111\"/>\n     <use x=\"434.033203\" xlink:href=\"#DejaVuSans-110\"/>\n     <use x=\"497.412109\" xlink:href=\"#DejaVuSans-32\"/>\n     <use x=\"529.199219\" xlink:href=\"#DejaVuSans-77\"/>\n     <use x=\"615.478516\" xlink:href=\"#DejaVuSans-97\"/>\n     <use x=\"676.757812\" xlink:href=\"#DejaVuSans-116\"/>\n     <use x=\"715.966797\" xlink:href=\"#DejaVuSans-114\"/>\n     <use x=\"757.080078\" xlink:href=\"#DejaVuSans-105\"/>\n     <use x=\"784.863281\" xlink:href=\"#DejaVuSans-120\"/>\n     <use x=\"844.042969\" xlink:href=\"#DejaVuSans-32\"/>\n     <use x=\"875.830078\" xlink:href=\"#DejaVuSans-111\"/>\n     <use x=\"937.011719\" xlink:href=\"#DejaVuSans-102\"/>\n     <use x=\"972.216797\" xlink:href=\"#DejaVuSans-32\"/>\n     <use x=\"1004.003906\" xlink:href=\"#DejaVuSans-82\"/>\n     <use x=\"1073.455078\" xlink:href=\"#DejaVuSans-97\"/>\n     <use x=\"1134.734375\" xlink:href=\"#DejaVuSans-110\"/>\n     <use x=\"1198.113281\" xlink:href=\"#DejaVuSans-100\"/>\n     <use x=\"1261.589844\" xlink:href=\"#DejaVuSans-111\"/>\n     <use x=\"1322.771484\" xlink:href=\"#DejaVuSans-32\"/>\n     <use x=\"1354.558594\" xlink:href=\"#DejaVuSans-70\"/>\n     <use x=\"1412.03125\" xlink:href=\"#DejaVuSans-111\"/>\n     <use x=\"1473.212891\" xlink:href=\"#DejaVuSans-114\"/>\n     <use x=\"1514.310547\" xlink:href=\"#DejaVuSans-114\"/>\n     <use x=\"1555.392578\" xlink:href=\"#DejaVuSans-101\"/>\n     <use x=\"1616.916016\" xlink:href=\"#DejaVuSans-115\"/>\n     <use x=\"1669.015625\" xlink:href=\"#DejaVuSans-116\"/>\n     <use x=\"1708.224609\" xlink:href=\"#DejaVuSans-32\"/>\n     <use x=\"1740.011719\" xlink:href=\"#DejaVuSans-67\"/>\n     <use x=\"1809.835938\" xlink:href=\"#DejaVuSans-108\"/>\n     <use x=\"1837.619141\" xlink:href=\"#DejaVuSans-97\"/>\n     <use x=\"1898.898438\" xlink:href=\"#DejaVuSans-115\"/>\n     <use x=\"1950.998047\" xlink:href=\"#DejaVuSans-115\"/>\n     <use x=\"2003.097656\" xlink:href=\"#DejaVuSans-105\"/>\n     <use x=\"2030.880859\" xlink:href=\"#DejaVuSans-102\"/>\n     <use x=\"2066.085938\" xlink:href=\"#DejaVuSans-105\"/>\n     <use x=\"2093.869141\" xlink:href=\"#DejaVuSans-101\"/>\n     <use x=\"2155.392578\" xlink:href=\"#DejaVuSans-114\"/>\n    </g>\n   </g>\n  </g>\n  <g id=\"axes_2\">\n   <g id=\"patch_3\">\n    <path clip-path=\"url(#pf292e2574f)\" d=\"M 782.758125 511.558125 \nL 782.758125 509.647031 \nL 782.758125 24.229219 \nL 782.758125 22.318125 \nL 807.220125 22.318125 \nL 807.220125 24.229219 \nL 807.220125 509.647031 \nL 807.220125 511.558125 \nz\n\" style=\"fill:#ffffff;stroke:#ffffff;stroke-linejoin:miter;stroke-width:0.01;\"/>\n   </g>\n   <image height=\"489\" id=\"image193fc93659\" transform=\"scale(1 -1)translate(0 -489)\" width=\"24\" x=\"783\" xlink:href=\"data:image/png;base64,\niVBORw0KGgoAAAANSUhEUgAAABgAAAHpCAYAAACYzvzwAAAABHNCSVQICAgIfAhkiAAAAlNJREFUeJztncFxwzAMBEmZaSL992l3oNUHmrmb3QKMARcH2kqc7M/f/3cNcvbkq6+1ruHXX2fv2R7sADl7xXcQ7+CK7yB/igocDHdwrnjJrgpCB4g5QLxwEJOMmGREB1xg79kmXHZIw7LTAaADRAeIDpAGB/OXvkd0j+9NEYOGOEVIgYP8DvJ/WOrbFixQMKbxkgscxHcwXcEcIOYAMQdIwxTN/1bCLAYNKRhTp4hwihA/ZSImGalI8iz5DgqOyHVN6AApyIHrmjDJiElG8qdIyUi+ZFcFcq7Rb8aagwdU5GAWk4w4RQ8KxC87JRN2gJgDxClCCjrY8TnId+ClT7jsEK9MpGKKZiU4RUhBkgty8I3PwXCB/Cly2SFvSI53MFzADhCnCNEB0nAfDN+Z+VPUELThZ2pvjGl6BwWfcPIdxHfQ4GC2gFOEOEVPCqQfUYHk4YcV+WOqA8QkI29M0WwBpwipSPJ0gfwjyu/AKxNwXSMV63q2gDlAChwscwDkd1BwRNMl8iXrANEB8oaD9K/s6YDQAXLWsAMlI/mSXRVIgYP8DvL/HHW+g4YOZmvkO3BdI288UnNM77ED5GyXHWCSkQYH5gALOKaA6xopcGAOCNc1clbBs4p4BwUdxE/R8DYtkFzwtKXgyrSDe7wykQoH8R3kO8jvYPq/TRYcUX4HrgpAB4gOEB0gDR04RVjAIwIcU6TAwd6f0QI6QBo6MMmADpCzrtldVHFE8R3EO/DKJJwiRAdI/oWjA6QgB9vfSgAqxtRVcY+rAhlfFTpAKnIQvot+K5EvkczcuwsAAAAASUVORK5CYII=\" y=\"-22\"/>\n   <g id=\"matplotlib.axis_3\"/>\n   <g id=\"matplotlib.axis_4\">\n    <g id=\"ytick_3\">\n     <g id=\"line2d_5\">\n      <defs>\n       <path d=\"M 0 0 \nL 3.5 0 \n\" id=\"m1e3c5ea87d\" style=\"stroke:#000000;stroke-width:0.8;\"/>\n      </defs>\n      <g>\n       <use style=\"stroke:#000000;stroke-width:0.8;\" x=\"807.220125\" xlink:href=\"#m1e3c5ea87d\" y=\"444.076746\"/>\n      </g>\n     </g>\n     <g id=\"text_10\">\n      <!-- 10 -->\n      <g transform=\"translate(814.220125 447.875964)scale(0.1 -0.1)\">\n       <use xlink:href=\"#DejaVuSans-49\"/>\n       <use x=\"63.623047\" xlink:href=\"#DejaVuSans-48\"/>\n      </g>\n     </g>\n    </g>\n    <g id=\"ytick_4\">\n     <g id=\"line2d_6\">\n      <g>\n       <use style=\"stroke:#000000;stroke-width:0.8;\" x=\"807.220125\" xlink:href=\"#m1e3c5ea87d\" y=\"359.725022\"/>\n      </g>\n     </g>\n     <g id=\"text_11\">\n      <!-- 15 -->\n      <g transform=\"translate(814.220125 363.52424)scale(0.1 -0.1)\">\n       <use xlink:href=\"#DejaVuSans-49\"/>\n       <use x=\"63.623047\" xlink:href=\"#DejaVuSans-53\"/>\n      </g>\n     </g>\n    </g>\n    <g id=\"ytick_5\">\n     <g id=\"line2d_7\">\n      <g>\n       <use style=\"stroke:#000000;stroke-width:0.8;\" x=\"807.220125\" xlink:href=\"#m1e3c5ea87d\" y=\"275.373297\"/>\n      </g>\n     </g>\n     <g id=\"text_12\">\n      <!-- 20 -->\n      <g transform=\"translate(814.220125 279.172516)scale(0.1 -0.1)\">\n       <use xlink:href=\"#DejaVuSans-50\"/>\n       <use x=\"63.623047\" xlink:href=\"#DejaVuSans-48\"/>\n      </g>\n     </g>\n    </g>\n    <g id=\"ytick_6\">\n     <g id=\"line2d_8\">\n      <g>\n       <use style=\"stroke:#000000;stroke-width:0.8;\" x=\"807.220125\" xlink:href=\"#m1e3c5ea87d\" y=\"191.021573\"/>\n      </g>\n     </g>\n     <g id=\"text_13\">\n      <!-- 25 -->\n      <g transform=\"translate(814.220125 194.820792)scale(0.1 -0.1)\">\n       <use xlink:href=\"#DejaVuSans-50\"/>\n       <use x=\"63.623047\" xlink:href=\"#DejaVuSans-53\"/>\n      </g>\n     </g>\n    </g>\n    <g id=\"ytick_7\">\n     <g id=\"line2d_9\">\n      <g>\n       <use style=\"stroke:#000000;stroke-width:0.8;\" x=\"807.220125\" xlink:href=\"#m1e3c5ea87d\" y=\"106.669849\"/>\n      </g>\n     </g>\n     <g id=\"text_14\">\n      <!-- 30 -->\n      <g transform=\"translate(814.220125 110.469068)scale(0.1 -0.1)\">\n       <use xlink:href=\"#DejaVuSans-51\"/>\n       <use x=\"63.623047\" xlink:href=\"#DejaVuSans-48\"/>\n      </g>\n     </g>\n    </g>\n    <g id=\"ytick_8\">\n     <g id=\"line2d_10\">\n      <g>\n       <use style=\"stroke:#000000;stroke-width:0.8;\" x=\"807.220125\" xlink:href=\"#m1e3c5ea87d\" y=\"22.318125\"/>\n      </g>\n     </g>\n     <g id=\"text_15\">\n      <!-- 35 -->\n      <g transform=\"translate(814.220125 26.117344)scale(0.1 -0.1)\">\n       <use xlink:href=\"#DejaVuSans-51\"/>\n       <use x=\"63.623047\" xlink:href=\"#DejaVuSans-53\"/>\n      </g>\n     </g>\n    </g>\n   </g>\n   <g id=\"patch_4\">\n    <path d=\"M 782.758125 511.558125 \nL 782.758125 509.647031 \nL 782.758125 24.229219 \nL 782.758125 22.318125 \nL 807.220125 22.318125 \nL 807.220125 24.229219 \nL 807.220125 509.647031 \nL 807.220125 511.558125 \nz\n\" style=\"fill:none;\"/>\n   </g>\n  </g>\n </g>\n <defs>\n  <clipPath id=\"p8c9b29dde8\">\n   <rect height=\"489.24\" width=\"714.24\" x=\"23.878125\" y=\"22.318125\"/>\n  </clipPath>\n  <clipPath id=\"pf292e2574f\">\n   <rect height=\"489.24\" width=\"24.462\" x=\"782.758125\" y=\"22.318125\"/>\n  </clipPath>\n </defs>\n</svg>\n",
      "image/png": "[encoded data removed]"
     },
     "metadata": {
      "needs_background": "light"
     }
    }
   ],
   "source": [
    "from sklearn.metrics import confusion_matrix\n",
    "\n",
    "cnf_mat = confusion_matrix(y_true=y_val, y_pred=preds)\n",
    "\n",
    "plt.figure(figsize=(16, 9))\n",
    "sns.heatmap(cnf_mat, annot=True)\n",
    "\n",
    "plt.title('Confusion Matrix of Rando Forrest Classifier')"
   ]
  },
  {
   "cell_type": "code",
   "execution_count": 30,
   "metadata": {
    "tags": []
   },
   "outputs": [
    {
     "output_type": "stream",
     "name": "stdout",
     "text": "Y true: no\nY pred: no\n"
    }
   ],
   "source": [
    "random_sample_index = np.random.randint(len(df_val_enc))\n",
    "random_sample = X_val.iloc[random_sample_index, :]\n",
    "random_sample = np.array(random_sample).reshape(1, -1)\n",
    "\n",
    "y_pred = int(clf.predict(random_sample))\n",
    "\n",
    "y_true = 'no' if y_val[random_sample_index] == 0 else 'yes'\n",
    "y_pred = 'no' if y_pred == 0 else 'yes'\n",
    "\n",
    "print(f'Y true: {y_true}')\n",
    "print(f'Y pred: {y_pred}')"
   ]
  },
  {
   "cell_type": "code",
   "execution_count": 31,
   "metadata": {},
   "outputs": [
    {
     "output_type": "execute_result",
     "data": {
      "text/plain": "  variable1 variable2 variable3 variable4 variable5 variable6 variable7  \\\n0         a     17,92   5,4e-05         u         g         c         v   \n\n  variable8 variable9 variable10  variable11 variable12 variable13  \\\n0      1,75         f          t           1          t          g   \n\n   variable14  variable15  variable17 variable18  variable19 classLabel  \n0          80           5    800000.0          t           0        no.  ",
      "text/html": "<div>\n<style scoped>\n    .dataframe tbody tr th:only-of-type {\n        vertical-align: middle;\n    }\n\n    .dataframe tbody tr th {\n        vertical-align: top;\n    }\n\n    .dataframe thead th {\n        text-align: right;\n    }\n</style>\n<table border=\"1\" class=\"dataframe\">\n  <thead>\n    <tr style=\"text-align: right;\">\n      <th></th>\n      <th>variable1</th>\n      <th>variable2</th>\n      <th>variable3</th>\n      <th>variable4</th>\n      <th>variable5</th>\n      <th>variable6</th>\n      <th>variable7</th>\n      <th>variable8</th>\n      <th>variable9</th>\n      <th>variable10</th>\n      <th>variable11</th>\n      <th>variable12</th>\n      <th>variable13</th>\n      <th>variable14</th>\n      <th>variable15</th>\n      <th>variable17</th>\n      <th>variable18</th>\n      <th>variable19</th>\n      <th>classLabel</th>\n    </tr>\n  </thead>\n  <tbody>\n    <tr>\n      <th>0</th>\n      <td>a</td>\n      <td>17,92</td>\n      <td>5,4e-05</td>\n      <td>u</td>\n      <td>g</td>\n      <td>c</td>\n      <td>v</td>\n      <td>1,75</td>\n      <td>f</td>\n      <td>t</td>\n      <td>1</td>\n      <td>t</td>\n      <td>g</td>\n      <td>80</td>\n      <td>5</td>\n      <td>800000.0</td>\n      <td>t</td>\n      <td>0</td>\n      <td>no.</td>\n    </tr>\n  </tbody>\n</table>\n</div>"
     },
     "metadata": {},
     "execution_count": 31
    }
   ],
   "source": [
    "# Convert string data (like the input from the Flask forum) to a dataframe\n",
    "# In order to be able to process it\n",
    "import io\n",
    "data = '\"a\";17,92;5,4e-05;\"u\";\"g\";\"c\";\"v\";1,75;\"f\";\"t\";1;\"t\";\"g\";80;5;8e+05;\"t\";0;\"no.\"'\n",
    "\n",
    "x = pd.read_csv(io.StringIO(data), sep=';', header=None)\n",
    "x.columns = ['variable1', 'variable2', 'variable3', 'variable4', 'variable5',\n",
    "       'variable6', 'variable7', 'variable8', 'variable9', 'variable10',\n",
    "       'variable11', 'variable12', 'variable13', 'variable14', 'variable15',\n",
    "       'variable17', 'variable18', 'variable19', 'classLabel']\n",
    "x"
   ]
  },
  {
   "cell_type": "code",
   "execution_count": 33,
   "metadata": {
    "tags": []
   },
   "outputs": [
    {
     "output_type": "stream",
     "name": "stdout",
     "text": "19\n"
    }
   ],
   "source": [
    "print(len(x.columns))"
   ]
  },
  {
   "cell_type": "markdown",
   "metadata": {},
   "source": [
    "Done. ^ ^"
   ]
  }
 ],
 "metadata": {
  "kernelspec": {
   "display_name": "Python 3.7.7 64-bit ('tf2': conda)",
   "language": "python",
   "name": "python37764bittf2condac4b87684b7564cd6b39388f981df8de7"
  },
  "language_info": {
   "codemirror_mode": {
    "name": "ipython",
    "version": 3
   },
   "file_extension": ".py",
   "mimetype": "text/x-python",
   "name": "python",
   "nbconvert_exporter": "python",
   "pygments_lexer": "ipython3",
   "version": "3.7.7-final"
  }
 },
 "nbformat": 4,
 "nbformat_minor": 4
}